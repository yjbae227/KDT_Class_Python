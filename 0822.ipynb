{
  "nbformat": 4,
  "nbformat_minor": 0,
  "metadata": {
    "colab": {
      "provenance": [],
      "authorship_tag": "ABX9TyP/Q94VYb3zxLcwqmkNfaeU",
      "include_colab_link": true
    },
    "kernelspec": {
      "name": "python3",
      "display_name": "Python 3"
    },
    "language_info": {
      "name": "python"
    }
  },
  "cells": [
    {
      "cell_type": "markdown",
      "metadata": {
        "id": "view-in-github",
        "colab_type": "text"
      },
      "source": [
        "<a href=\"https://colab.research.google.com/github/yjbae227/KDT_Class_Python/blob/main/0822.ipynb\" target=\"_parent\"><img src=\"https://colab.research.google.com/assets/colab-badge.svg\" alt=\"Open In Colab\"/></a>"
      ]
    },
    {
      "cell_type": "code",
      "execution_count": 5,
      "metadata": {
        "colab": {
          "base_uri": "https://localhost:8080/",
          "height": 239
        },
        "id": "CF3MttLzJFXM",
        "outputId": "b0edef55-0068-47f6-be45-951a51bd8266"
      },
      "outputs": [
        {
          "output_type": "stream",
          "name": "stdout",
          "text": [
            "200\n"
          ]
        },
        {
          "output_type": "error",
          "ename": "AttributeError",
          "evalue": "'SubClass' object has no attribute 'age'",
          "traceback": [
            "\u001b[0;31m---------------------------------------------------------------------------\u001b[0m",
            "\u001b[0;31mAttributeError\u001b[0m                            Traceback (most recent call last)",
            "\u001b[0;32m/tmp/ipython-input-1087838076.py\u001b[0m in \u001b[0;36m<cell line: 0>\u001b[0;34m()\u001b[0m\n\u001b[1;32m     41\u001b[0m \u001b[0mprint\u001b[0m\u001b[0;34m(\u001b[0m\u001b[0mSubClass\u001b[0m\u001b[0;34m.\u001b[0m\u001b[0msub_variable\u001b[0m\u001b[0;34m)\u001b[0m        \u001b[0;31m# 500d으로 출력되지 않으며, 값은 변한 적이 없음ㅇㅇ\u001b[0m\u001b[0;34m\u001b[0m\u001b[0;34m\u001b[0m\u001b[0m\n\u001b[1;32m     42\u001b[0m \u001b[0;34m\u001b[0m\u001b[0m\n\u001b[0;32m---> 43\u001b[0;31m \u001b[0mprint\u001b[0m\u001b[0;34m(\u001b[0m\u001b[0mmy_obj\u001b[0m\u001b[0;34m.\u001b[0m\u001b[0mage\u001b[0m\u001b[0;34m)\u001b[0m           \u001b[0;31m# 1. instance 공간 내에서 age를 찾음 ->\u001b[0m\u001b[0;34m\u001b[0m\u001b[0;34m\u001b[0m\u001b[0m\n\u001b[0m\u001b[1;32m     44\u001b[0m                             \u001b[0;31m# 2. 없으면 클래스 공간 내에서 찾음  ->\u001b[0m\u001b[0;34m\u001b[0m\u001b[0;34m\u001b[0m\u001b[0m\n\u001b[1;32m     45\u001b[0m                             \u001b[0;31m#    -> class variable에 있는지 확인\u001b[0m\u001b[0;34m\u001b[0m\u001b[0;34m\u001b[0m\u001b[0m\n",
            "\u001b[0;31mAttributeError\u001b[0m: 'SubClass' object has no attribute 'age'"
          ]
        }
      ],
      "source": [
        "# 상속 관계로 클래스를 정의할거에요.\n",
        "class SuperClass(object) :\n",
        "    super_variable = 100                        # class variable\n",
        "\n",
        "    # magic funtion(method)     -> __로 시작해서 __로 끝나는 정해진 이름을 가진 특수역할 함수\n",
        "\n",
        "    def __init__(self) :\n",
        "        self.name = '슈퍼입니다.'               # inatance variable\n",
        "                                                # 속성(property)\n",
        "    # intance method : instance를 활용한 함수\n",
        "    def print_name(self) :\n",
        "        print(f'나의 이름은 {self.name}입니다.')\n",
        "\n",
        "class SubClass(SuperClass) :\n",
        "    sub_variable = 200                         # class variable\n",
        "    test_class_variable = 'test'\n",
        "\n",
        "    # __init__()를 정의하지 않으면 상위 클래스의 __init__()를 사용\n",
        "    def __init__(self) :\n",
        "        self.address = '서울'\n",
        "        self.test = '???'\n",
        "        self.test_class_variable = '123'\n",
        "\n",
        "\n",
        "\n",
        "\n",
        "\n",
        "\n",
        "my_obj = SubClass()\n",
        "\n",
        "# print(my_obj.super_variavle)      # namespace 순서로 찾아가서 상위 클래서의 class variale에서 찾아야 사용\n",
        "my_obj.address = 'ㄴㄴㄴ'           # 이건 접근 가능\n",
        "my_obj.test = 'aaa'                 # 이것도 접근 가능\n",
        "my_obj.test_class_variable = '234'  # 여기서 test_class_variable 은 'test'가 아니고 '123'에 접근\n",
        "                                    # 123 위치에 선언되어 있지 않으면 새로 생성\n",
        "\n",
        "my_obj.sub_variable = 500           # Python은 약간 특이하게 동작해요\n",
        "                                    # 일반적인 객체지향 개념과 다르게\n",
        "                                    # property의 동적 추가가 가능\n",
        "                                    # 사용하는 property가 존재하지 않으면 생성!!\n",
        "print(SubClass.sub_variable)        # 500d으로 출력되지 않으며, 값은 변한 적이 없음ㅇㅇ\n",
        "\n",
        "print(my_obj.age)           # 1. instance 공간 내에서 age를 찾음 ->\n",
        "                            # 2. 없으면 클래스 공간 내에서 찾음  ->\n",
        "                            #    -> class variable에 있는지 확인\n",
        "                            # 3. 상위 클래스의 class variavle을 확인\n",
        "                            #    -> 없음\n",
        "                            # 4. 최종적으로 object의 클래스 내에서 age를 찾음\n",
        "                            # 5. 그럼에도 없으면 없다는 오류가 발생\n",
        "\n"
      ]
    },
    {
      "cell_type": "code",
      "source": [
        "# class 내부의 method에 대해서 조금 더 알아보아요\n",
        "# 우리가 알고 있는 건 instance method에요\n",
        "class MyClass(object) :\n",
        "    class_variavle = 100                        # class variable\n",
        "\n",
        "    def __init__(self, name) :                  # magic function\n",
        "        self.name = name                        # 객체 초기화를 담당 -> initializer라고 해요\n",
        "                                                # 생성자, 생성자 함수, constrcutor\n",
        "                                                # 일바적으로 property(속성)을 생성\n",
        "\n",
        "    # 로직처리를 하기 위한 함수 -> method\n",
        "    # 이런 method를 instance method라고 불러요!\n",
        "    # 이 method를 이용하려면 반드시 instance(객체)를 생성해야 해요\n",
        "    # method의 첫번째 인자로 self가 오면 이 method는 instance method에요\n",
        "    def my_method(self) :\n",
        "        print('열심히 일을 해요!')\n",
        "\n",
        "    # method 중 instance method가 아닌 다른 method도 있어요.\n",
        "    # class method가 있어요.\n",
        "    # class method는 어떤 용도로 사용되나요? 일반적으로 class variable을\n",
        "    # 제어하기 위해서 사용\n",
        "    # class method는 특수한 decorator를 이용해요\n",
        "    # decorator는 @으로 표현\n",
        "    @classmethod\n",
        "    def change_class_variable(cls, num) :\n",
        "        cls.class_variavle = num                    # class variable을 편하게 사용할 수 있어요"
      ],
      "metadata": {
        "id": "CDsAt754cPI6"
      },
      "execution_count": 7,
      "outputs": []
    },
    {
      "cell_type": "code",
      "source": [
        "# 그럼 method 종류는 크게 2가지가 있네요\n",
        "# 아니에요, method의 종류는 크게 3가지에요\n",
        "# staticmethod라는 것도 있어요\n",
        "\n",
        "class MyClass:\n",
        "\n",
        "    price = 1000                                    # class variable\n",
        "\n",
        "    @staticmethod                                   # static method에 대한 decorator\n",
        "    def my_sum(a, b) :\n",
        "        return a + b\n",
        "\n",
        "\n",
        "    @classmethod                                    # class method에 대한 decorator\n",
        "    def print_class_var(cls, num) :\n",
        "        cls.price = num                             # class가 가지고 있는\n",
        "\n",
        "    def print_info(self) :                          # instance method\n",
        "        print('안녕하세요, 반가워요! ')\n",
        "\n",
        "\n",
        "obj1 = MyClass ()\n",
        "obj1.print_info()                                   # print_info()을 사용하려면 instance가 있어야 해요\n",
        "MyClass.print_class_var(200)\n",
        "\n",
        "\n",
        "# 일반적으로 class method는 class명을 직접 이용해서 사용\n",
        "# 하지만 instance를 이용해서 사용하는 것도 가능"
      ],
      "metadata": {
        "colab": {
          "base_uri": "https://localhost:8080/"
        },
        "id": "tVGqQPS-gG1a",
        "outputId": "3f53c0f3-5199-417c-cc74-e172b388d403"
      },
      "execution_count": 13,
      "outputs": [
        {
          "output_type": "stream",
          "name": "stdout",
          "text": [
            "안녕하세요, 반가워요! \n"
          ]
        }
      ]
    },
    {
      "cell_type": "code",
      "source": [
        "# information Hiding(정보 은닉)\n",
        "\n",
        "class MyClass :\n",
        "    def __init__(self, name, age) :\n",
        "        self.__name = name                  # private 지정 -> 직접접근 불가 (파이썬 버전 차이 있음)\n",
        "        self.name = name\n",
        "        self.age = age\n",
        "\n",
        "    def set_name (self, name) :             # instance method\n",
        "        self.name = name\n",
        "obj = MyClass('홍길동', 20)\n",
        "obj.__name = '신사임당'                       # 이런 작업은 좋지 않아요! 정보은닉개념에서\n",
        "\n",
        "# 그럼 어떻게 하는 것이 좋을까요?\n",
        "# 직접적인 접근은 하지 않겠지마 그래도 값을 변견해야 할 때는 어떻게 해야 할까요?\n",
        "# 그래도 값을 변경해야 할 때는 어떻게 해야 할까요?\n",
        "# method를 이용해서 처리해요\n",
        "obj.set_name('신사임당')                    # 이렇게 method를 이용해서 property를 처리해요\n",
        "\n",
        "\n",
        "# public은 외부에서 접근할 수 있는 상태\n",
        "# private은 외부에서 접근 할 수 없는 상태\n",
        "# python언어에서는 이 개념이 keyword로 존재하지 않아요\n",
        "# 다른언어(Java)에서는 이 개념이 keyword로 존재해요\n"
      ],
      "metadata": {
        "id": "0J-0cBBCqSWr"
      },
      "execution_count": 15,
      "outputs": []
    },
    {
      "cell_type": "code",
      "source": [
        "# Generator에 대해서 알아보아요\n",
        "\n",
        "def my_func (data) :\n",
        "\n",
        "    # empty list(비어있는 리스트)를 생성해요\n",
        "    # result = []\n",
        "    result = list()\n",
        "\n",
        "    # list에 데이터를 새롭게 추가하려면 가장 많이 사용하는 method\n",
        "    # method => append()\n",
        "    for tmp in data :\n",
        "        result.append(tmp*2)\n",
        "    return result\n",
        "\n",
        "\n",
        "twice_list = my_func([1,2,3,4,5])               # 각 요소에 2를 곱해서 결과 listk를 리턴\n",
        "print(twice_list)\n",
        "my_func([1,2,3,4,5])\n"
      ],
      "metadata": {
        "colab": {
          "base_uri": "https://localhost:8080/"
        },
        "id": "XVZmnQTW2UBT",
        "outputId": "924a9118-9371-4305-fd17-39b48cca8298"
      },
      "execution_count": 18,
      "outputs": [
        {
          "output_type": "stream",
          "name": "stdout",
          "text": [
            "[2, 4, 6, 8, 10]\n"
          ]
        },
        {
          "output_type": "execute_result",
          "data": {
            "text/plain": [
              "[2, 4, 6, 8, 10]"
            ]
          },
          "metadata": {},
          "execution_count": 18
        }
      ]
    },
    {
      "cell_type": "code",
      "source": [
        "# 위의 코드를 Generator라는 걸 이용해서 살짝 수정해 볼거에요\n",
        "\n",
        "def my_func(data) :                             # 입력인자(parameter)로 list를 받아요\n",
        "    for tmp in data :\n",
        "        yield tmp * 2\n",
        "\n",
        "\n",
        "twice_list = my_func([1,2,3,])\n",
        "print(twice_list)                               # <generator object>\n",
        "print(f'반복처리의 첫번째 값은 : {next(twice_list)}')           # 4\n",
        "print(f'반복처리의 두번째 값은 : {next(twice_list)}')           # 2\n",
        "\n",
        "# 머신러닝에서 이 Generator를 이용해서 데이터 처리를 하게 됩니다!\n"
      ],
      "metadata": {
        "colab": {
          "base_uri": "https://localhost:8080/"
        },
        "id": "GYF1LSkM4Zdk",
        "outputId": "ed42303c-7311-44f5-a986-9e3b54795db0"
      },
      "execution_count": 25,
      "outputs": [
        {
          "output_type": "stream",
          "name": "stdout",
          "text": [
            "<generator object my_func at 0x7fd0827bc5f0>\n",
            "반복처리의 첫번째 값은 : 2\n",
            "반복처리의 두번째 값은 : 4\n"
          ]
        }
      ]
    },
    {
      "cell_type": "code",
      "source": [
        "# Module & Package\n",
        "# 이 두개의 개념은 잘 알아두어야 해요\n",
        "# 다른 언어에서도 모듈이라는 용어와 package라는 용어 사용\n",
        "\n",
        "# Module => 함수, 변수, class 이런것들을 모아 놓은 파일을 지칭해요\n",
        "\n",
        "# cell이 파일이라고 가정하면\n",
        "\n",
        "a = 100\n",
        "my_name = '홍길동'\n",
        "\n",
        "def my_func(a, b) :\n",
        "    return a + b\n",
        "\n",
        "class MyClass(object) :\n",
        "    def __init__(self, name) :\n",
        "        self.name = name\n"
      ],
      "metadata": {
        "id": "kvbNMv627lxT"
      },
      "execution_count": 27,
      "outputs": []
    },
    {
      "cell_type": "code",
      "source": [
        "# 자주 사용되는 함수, 클래스 변수들을 모아놓은 파이썬 파일\n",
        "# 확장자는 .py\n",
        "# 그러면 우리가 만들고 있는 .ipynb  파일은?\n",
        "# cell을 이용해 interacitve하게 코드를 작성하고 수행시킬 수 있는\n",
        "# Jupyter notebook 형식의 파일\n",
        "\n",
        "# 이렇게 만들어진 모듈을 다른 파이썬 코드에서 불러다가 사용 할 수 있어요\n",
        "# 정확히 말하자면, 모듈 안에 변수, 함수, 클래스를 호출 가능\n",
        "#\n",
        "\n",
        "# 한마디로 코드의 관리(유지보수와 재활용성)를 편하게 하기 위해 사용하는 개념\n",
        "\n",
        "# Python에서 사용하는 이런 모듈은 두가지 종류가 있어요\n",
        "#   -> C 언어로 구현 된 binary module\n",
        "#   -> Python언어로 구현 된 일반 module\n",
        "\n",
        "\n",
        "\n"
      ],
      "metadata": {
        "id": "INKuCdk0-YNx"
      },
      "execution_count": 30,
      "outputs": []
    },
    {
      "cell_type": "code",
      "source": [
        "# Modual\n",
        "# .py 파일 만들어야 해요\n",
        "# 우리는 linux를 사용하고 있으니 적절한 위치\n",
        "# .py 파일(모듈)을 저장할거에요\n",
        "# 우리의 홈 디렉토리는 /content\n",
        "# 우리에게 제공된 ubuntu linux 시스템의\n",
        "# /content 폴더가 jupyter notebook의 홈 폴더\n"
      ],
      "metadata": {
        "id": "Sfs6cEhsQ4XK"
      },
      "execution_count": 32,
      "outputs": []
    },
    {
      "cell_type": "code",
      "source": [
        "# 특정 module을 불러서 사용해 볼거에요\n",
        "# 적어도 해당 모듈 파일이 어디에 있는 지는 알아야 사용 가능\n",
        "\n",
        "import sys\n",
        "\n",
        "sys.path.append('/content/my_module')"
      ],
      "metadata": {
        "id": "QqJRc-5QYVGg"
      },
      "execution_count": 34,
      "outputs": []
    },
    {
      "cell_type": "code",
      "source": [
        "# module 사용방법\n",
        "# 1. import 모듈이름\n",
        "# import module1\n",
        "\n",
        "# print(module1.module1_PI)\n",
        "\n",
        "\n",
        "\n",
        "# 2. alias를 이용해서 조금 편하게 사용\n",
        "#       import 모율이름 as 별명\n",
        "# import module1 as m1\n",
        "# print(m1.module1_PI)\n",
        "# print(m1.my_sum(10, 20))\n",
        "# print(type(module1))            # <class 'module'>\n",
        "\n",
        "\n",
        "# 3. from ~ import ~\n",
        "# from module1 import my_sum\n",
        "from module1 import *\n",
        "\n",
        "print(my_sum(100,200))\n",
        "\n",
        "\n"
      ],
      "metadata": {
        "colab": {
          "base_uri": "https://localhost:8080/"
        },
        "id": "O6WR4YIkY_fh",
        "outputId": "06a995e3-fc10-40d5-f036-cfe29d0d38f3"
      },
      "execution_count": 43,
      "outputs": [
        {
          "output_type": "stream",
          "name": "stdout",
          "text": [
            "300\n"
          ]
        }
      ]
    },
    {
      "cell_type": "code",
      "source": [
        "# module\n",
        "# 파이썬 파일이에요 (.py) 파이썬 코드가 들어있는 파일\n",
        "# 그런데 이 안에 들어있는 것들은 변수, 함수, 클래스가 들어있어요\n",
        "# 이런 모듈안의 코드를 다른 파이썬 파일에서 불러서 사용하기 위함이에요\n",
        "# 모듈을 불러서 사용하기 위해서 우리가 사용하는 키워드 => import\n",
        "\n",
        "# package\n",
        "# 폴더, 모듈을 담고 있는 폴더\n",
        "# 그런데 이 package는 중첩구조를 가질 수 있어요\n",
        "# 경로가 /content/my_module/hahaha/hohoho/module1.py\n",
        "# 결국 package는 논리적인 개념이에요! 모듈을 논리적으로 묶어주는 개념\n",
        "# 이게 물리적으로는 폴더로 표현 됨\n",
        "\n"
      ],
      "metadata": {
        "id": "q1-J_Lzah_PH"
      },
      "execution_count": 46,
      "outputs": []
    },
    {
      "cell_type": "code",
      "source": [
        "# %reset -f"
      ],
      "metadata": {
        "id": "ICWvzzYWkYhe"
      },
      "execution_count": 51,
      "outputs": []
    },
    {
      "cell_type": "code",
      "source": [
        "# 모듈을 사용하려면\n",
        "# 패키지명까지 모두 명시해야 해요\n",
        "# import myFolder.myModule.module1\n",
        "# from myFolder.myModule import module1\n",
        "\n",
        "from myFolder.myModule.module1 import my_data\n",
        "print(my_data)"
      ],
      "metadata": {
        "colab": {
          "base_uri": "https://localhost:8080/"
        },
        "id": "msWX35U_m5wo",
        "outputId": "a9728984-350b-4b22-b77b-f61a0dd54238"
      },
      "execution_count": 62,
      "outputs": [
        {
          "output_type": "stream",
          "name": "stdout",
          "text": [
            "3.121592\n"
          ]
        }
      ]
    }
  ]
}