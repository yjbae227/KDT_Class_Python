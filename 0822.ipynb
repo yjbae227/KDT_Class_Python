{
  "nbformat": 4,
  "nbformat_minor": 0,
  "metadata": {
    "colab": {
      "provenance": [],
      "authorship_tag": "ABX9TyMkfMQ0O/rnWIAjbhTZ3ohV",
      "include_colab_link": true
    },
    "kernelspec": {
      "name": "python3",
      "display_name": "Python 3"
    },
    "language_info": {
      "name": "python"
    }
  },
  "cells": [
    {
      "cell_type": "markdown",
      "metadata": {
        "id": "view-in-github",
        "colab_type": "text"
      },
      "source": [
        "<a href=\"https://colab.research.google.com/github/yjbae227/KDT_Class_Python/blob/main/0822.ipynb\" target=\"_parent\"><img src=\"https://colab.research.google.com/assets/colab-badge.svg\" alt=\"Open In Colab\"/></a>"
      ]
    },
    {
      "cell_type": "code",
      "execution_count": 2,
      "metadata": {
        "colab": {
          "base_uri": "https://localhost:8080/",
          "height": 239
        },
        "id": "CF3MttLzJFXM",
        "outputId": "64626cdb-1d0b-4fe0-c99f-309dfd2fe7bd"
      },
      "outputs": [
        {
          "output_type": "stream",
          "name": "stdout",
          "text": [
            "200\n"
          ]
        },
        {
          "output_type": "error",
          "ename": "AttributeError",
          "evalue": "'SubClass' object has no attribute 'age'",
          "traceback": [
            "\u001b[0;31m---------------------------------------------------------------------------\u001b[0m",
            "\u001b[0;31mAttributeError\u001b[0m                            Traceback (most recent call last)",
            "\u001b[0;32m/tmp/ipython-input-3093150389.py\u001b[0m in \u001b[0;36m<cell line: 0>\u001b[0;34m()\u001b[0m\n\u001b[1;32m     29\u001b[0m \u001b[0mprint\u001b[0m\u001b[0;34m(\u001b[0m\u001b[0mSubClass\u001b[0m\u001b[0;34m.\u001b[0m\u001b[0msub_variable\u001b[0m\u001b[0;34m)\u001b[0m\u001b[0;34m\u001b[0m\u001b[0;34m\u001b[0m\u001b[0m\n\u001b[1;32m     30\u001b[0m \u001b[0;34m\u001b[0m\u001b[0m\n\u001b[0;32m---> 31\u001b[0;31m \u001b[0mprint\u001b[0m\u001b[0;34m(\u001b[0m\u001b[0mmy_obj\u001b[0m\u001b[0;34m.\u001b[0m\u001b[0mage\u001b[0m\u001b[0;34m)\u001b[0m           \u001b[0;31m# 1. instance 공간 내에서 age를 찾음 ->\u001b[0m\u001b[0;34m\u001b[0m\u001b[0;34m\u001b[0m\u001b[0m\n\u001b[0m\u001b[1;32m     32\u001b[0m                             \u001b[0;31m# 2. 없으면 클래스 공간 내에서 찾음  ->\u001b[0m\u001b[0;34m\u001b[0m\u001b[0;34m\u001b[0m\u001b[0m\n\u001b[1;32m     33\u001b[0m                             \u001b[0;31m#    -> class variable에 있는지 확인\u001b[0m\u001b[0;34m\u001b[0m\u001b[0;34m\u001b[0m\u001b[0m\n",
            "\u001b[0;31mAttributeError\u001b[0m: 'SubClass' object has no attribute 'age'"
          ]
        }
      ],
      "source": [
        "# 상속 관계로 클래스를 정의할거에요.\n",
        "class SuperClass(object) :\n",
        "    super_variable = 100                        # class variable\n",
        "\n",
        "    # magic funtion(method)     -> __로 시작해서 __로 끝나는 정해진 이름을 가진 특수역할 함수\n",
        "\n",
        "    def __init__(self) :\n",
        "        self.name = '슈퍼입니다.'               # inatance variable\n",
        "                                                # 속성(property)\n",
        "    # intance method : instance를 활용한 함수\n",
        "    def print_name(self) :\n",
        "        print(f'나의 이름은 {self.name}입니다.')\n",
        "\n",
        "class SubClass(SuperClass) :\n",
        "    sub_variable = 200                         # class variable\n",
        "    test_class_variable = 'test'\n",
        "\n",
        "    # __init__()를 정의하지 않으면 상위 클래스의 __init__()를 사용\n",
        "    def __init__(self) :\n",
        "        self.address = '서울'\n",
        "        self.test = '???'\n",
        "        self.test_class_variable = '123'\n",
        "\n",
        "\n",
        "\n",
        "\n",
        "\n",
        "\n",
        "my_obj = SubClass()\n",
        "\n",
        "# print(my_obj.super_variavle)      # namespace 순서로 찾아가서 상위 클래서의 class variale에서 찾아야 사용\n",
        "my_obj.address = 'ㄴㄴㄴ'           # 이건 접근 가능\n",
        "my_obj.test = 'aaa'                 # 이것도 접근 가능\n",
        "my_obj.test_class_variable = '234'  # 여기서 test_class_variable 은 'test'가 아니고 '123'에 접근\n",
        "\n",
        "my_obj.sub_variable = 500           # Python은 약간 특이하게 동작해요\n",
        "                                    # 일반적인 객체지향 개념과 다르게\n",
        "                                    # property의 동적 추가가 가능\n",
        "                                    # 사용하는 property가 존재하지 않으면 생성!!\n",
        "print(SubClass.sub_variable)        # 500d으로 출력되지 않으며, 값은 변한 적이 없음ㅇㅇ\n",
        "\n",
        "print(my_obj.age)           # 1. instance 공간 내에서 age를 찾음 ->\n",
        "                            # 2. 없으면 클래스 공간 내에서 찾음  ->\n",
        "                            #    -> class variable에 있는지 확인\n",
        "                            # 3. 상위 클래스의 class variavle을 확인\n",
        "                            #    -> 없음\n",
        "                            # 4. 최종적으로 object의 클래스 내에서 age를 찾음\n",
        "                            # 5. 그럼에도 없으면 없다는 오류가 발생\n",
        "\n",
        "\n",
        "\n",
        "\n"
      ]
    }
  ]
}