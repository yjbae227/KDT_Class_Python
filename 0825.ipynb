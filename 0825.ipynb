{
  "nbformat": 4,
  "nbformat_minor": 0,
  "metadata": {
    "colab": {
      "provenance": [],
      "authorship_tag": "ABX9TyO5nD0b96EgXyRYaekehQBL",
      "include_colab_link": true
    },
    "kernelspec": {
      "name": "python3",
      "display_name": "Python 3"
    },
    "language_info": {
      "name": "python"
    }
  },
  "cells": [
    {
      "cell_type": "markdown",
      "metadata": {
        "id": "view-in-github",
        "colab_type": "text"
      },
      "source": [
        "<a href=\"https://colab.research.google.com/github/yjbae227/KDT_Class_Python/blob/main/0825.ipynb\" target=\"_parent\"><img src=\"https://colab.research.google.com/assets/colab-badge.svg\" alt=\"Open In Colab\"/></a>"
      ]
    },
    {
      "cell_type": "code",
      "execution_count": 2,
      "metadata": {
        "id": "FTB3b3q_gu9R",
        "colab": {
          "base_uri": "https://localhost:8080/"
        },
        "outputId": "85f7ac06-7356-450d-a22c-34dd9e526936"
      },
      "outputs": [
        {
          "output_type": "stream",
          "name": "stdout",
          "text": [
            "길이(크기): 8\n",
            "포함 횟수: 3\n",
            "검색 위치: 1 4 7\n",
            "첫 글자 유무:  True False\n",
            "해당 요솟값 :  True\n",
            "s  e\n",
            "equence  eune\n",
            "seq  uence\n",
            "e  s\n",
            "ence  suc\n",
            "equenc  equenc\n",
            "[1, 2, 3]\n"
          ]
        }
      ],
      "source": [
        "\n",
        "\n",
        "s = 'sequence'\n",
        "\n",
        "print('길이(크기):' , len(s))\n",
        "print('포함 횟수:', s.count('e'))\n",
        "print('검색 위치:', s.find('e'), s.find('e', 3), s.rfind('e'))\n",
        "print('첫 글자 유무: ', s.startswith('s'), s.startswith('a'))\n",
        "print('해당 요솟값 : ', 'e' in s)\n",
        "\n",
        "# 인덱싱과 슬라이싱 처리\n",
        "print(s[0], '', s[7])\n",
        "print(s[1:],'', s[1::2])\n",
        "print(s[:3], '', s[3:])\n",
        "print(s[-1], '', s[-8])\n",
        "print(s[-4:], '', s[::3])\n",
        "print(s[1:7:1], '', s[1:7])\n"
      ]
    },
    {
      "cell_type": "code",
      "source": [
        "# a는 리스트 변수로 묶음 자료를 참조한다.\n",
        "a = [1,2,3]\n",
        "print(a)\n",
        "\n",
        "# 리스트 자료형은 다양한 데이터를 기억할 수 있다.\n",
        "b = [10, a, 20.5, True, '문자열']\n",
        "print(b)\n",
        "\n",
        "friends = ['오공', '팔계', '오정']\n",
        "print('친구 목록 : ', friends)\n",
        "print('친구 수 : ', len(friends))\n",
        "print('세 번째 친구는 ', friends[2])\n",
        "\n",
        "friends.append('관우')\n",
        "friends.remove('오공')\n",
        "friends.insert(0, '장비')\n",
        "friends += ['손권']\n",
        "print('친구목록 : ', friends)\n",
        "\n",
        "print('저팔계는 몇 번째? ', friends.index('팔계'))\n",
        "print('관우 있나?', '관우' in friends)\n",
        "print('동탁있나?', '동탁' in friends)\n"
      ],
      "metadata": {
        "colab": {
          "base_uri": "https://localhost:8080/"
        },
        "id": "1ste4dOjfWnc",
        "outputId": "66a80953-73cd-444a-8333-19629d36c794"
      },
      "execution_count": 12,
      "outputs": [
        {
          "output_type": "stream",
          "name": "stdout",
          "text": [
            "[1, 2, 3]\n",
            "[10, [1, 2, 3], 20.5, True, '문자열']\n",
            "친구 목록 :  ['오공', '팔계', '오정']\n",
            "친구 수 :  3\n",
            "세 번째 친구는  오정\n",
            "친구목록 :  ['장비', '팔계', '오정', '관우', '손권']\n",
            "저팔계는 몇 번째?  1\n",
            "관우 있나? True\n",
            "동탁있나? False\n"
          ]
        }
      ]
    },
    {
      "cell_type": "code",
      "source": [
        "# 리스트 살펴보기 2\n",
        "aa = [1, 2, 3, 4, 5]\n",
        "print(aa[0:2])\n",
        "\n",
        "\n",
        "aa = [1,2,3,['a','b','c'], 4, 5]\n",
        "aa[0] = 100\n",
        "aa[3][0] = 'good'\n",
        "\n",
        "print(aa)\n",
        "print(aa[0], aa[3])\n",
        "print(aa[3][:2])\n",
        "print(aa[3][2])\n",
        "\n",
        "\n",
        "# 리스트 내의 요솟값을 삭제할 수도 있다.\n",
        "aa.remove(4)\n",
        "del aa[4]\n",
        "print(aa)\n",
        "aa[3].remove('c')\n",
        "del aa[3][0]\n",
        "print(aa)\n",
        "\n"
      ],
      "metadata": {
        "colab": {
          "base_uri": "https://localhost:8080/"
        },
        "id": "deoyd3w4gzaB",
        "outputId": "418b5f2d-791a-46e3-c151-a7cb500edefc"
      },
      "execution_count": 19,
      "outputs": [
        {
          "output_type": "stream",
          "name": "stdout",
          "text": [
            "[1, 2]\n",
            "[100, 2, 3, ['good', 'b', 'c'], 4, 5]\n",
            "100 ['good', 'b', 'c']\n",
            "['good', 'b']\n",
            "c\n",
            "[100, 2, 3, ['good', 'b', 'c']]\n",
            "[100, 2, 3, ['b']]\n"
          ]
        }
      ]
    }
  ]
}