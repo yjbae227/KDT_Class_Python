{
  "nbformat": 4,
  "nbformat_minor": 0,
  "metadata": {
    "colab": {
      "provenance": [],
      "authorship_tag": "ABX9TyNA/4Um62bmDMHKVEzfdKyX",
      "include_colab_link": true
    },
    "kernelspec": {
      "name": "python3",
      "display_name": "Python 3"
    },
    "language_info": {
      "name": "python"
    }
  },
  "cells": [
    {
      "cell_type": "markdown",
      "metadata": {
        "id": "view-in-github",
        "colab_type": "text"
      },
      "source": [
        "<a href=\"https://colab.research.google.com/github/yjbae227/KDT_Class_Python/blob/main/0818.ipynb\" target=\"_parent\"><img src=\"https://colab.research.google.com/assets/colab-badge.svg\" alt=\"Open In Colab\"/></a>"
      ]
    },
    {
      "cell_type": "code",
      "execution_count": 18,
      "metadata": {
        "id": "QYoPcaICjBS5",
        "colab": {
          "base_uri": "https://localhost:8080/"
        },
        "outputId": "8ac82e1b-4210-40a1-f64f-e7a75827b732"
      },
      "outputs": [
        {
          "output_type": "stream",
          "name": "stdout",
          "text": [
            "<class 'set'>\n",
            "{1, 2, 3, 4, 5}\n",
            "{1, 2, 3, 4, 5}\n",
            "{1, 2, 3, 4, 5, 6, 7}\n",
            "{1, 2, 3, 4, 5, 6, 7}\n",
            "{1, 2}\n",
            "{1, 2}\n",
            "{3, 4, 5}\n",
            "{3, 4, 5}\n",
            "{1, 2, 3, 4, 5, 10}\n",
            "{1, 2, 4, 5, 10}\n"
          ]
        }
      ],
      "source": [
        "# Set Type\n",
        "# 데이터를 저장할 수 있는 주머니라고 생각하면 되요\n",
        "# 순서가 없어요! Key도 없어요!  => 중복을 배제\n",
        "# literal은 어떤 걸 사용하나요? => {}\n",
        "# 대신 set은 key와 value의 쌍이 아니라 그냥 값만 포함해요!\n",
        "a = {1, 2, 3}\n",
        "print(type(a))          # <class 'set'>\n",
        "a = set()               # set class의 instance(객체)를 생성하세요\n",
        "a = set([1, 2, 3, 4, 5])\n",
        "print(a)\n",
        "a = set ([1, 2, 3, 4, 5, 5, 4, 2, 1, 1])\n",
        "print(a)\n",
        "\n",
        "# set은 수학적으로 집합을 의미해서 집합 연산을 제공\n",
        "# 합집합, 교집합, 차집합\n",
        "s1 = set([1, 2, 3, 4, 5])\n",
        "s2 = set([3, 4, 5, 6, 7])\n",
        "print(s1 | s2)                      # union 연산\n",
        "print(s1.union(s2))                 # union 연산\n",
        "print(s1 - s2)                      # 차집합 연산\n",
        "print(s1.difference(s2))            # 차집합 연산\n",
        "print(s1 & s2)                      # 교집합 연산\n",
        "print(s1.intersection(s2))          # 교집합 연산ㅣ\n",
        "\n",
        "a = set([1,2,3,4,5])\n",
        "a.add(10)\n",
        "print(a)\n",
        "a.remove(3)\n",
        "print(a)"
      ]
    },
    {
      "cell_type": "code",
      "source": [
        "# 마지막 6번째 Built-in Type\n",
        "# Bool type\n",
        "# 사용하는 class는 Bool class\n",
        "# 사용할 수 있는 값은 딱 2개 있어요 -> Ture, False\n",
        "\n",
        "# 주의해야 할 점\n",
        "# 빈 문자열 => '', \"\" -> False로 간주\n",
        "# 빈 리스트 => [] -> False로 간주\n",
        "# 빈 tuple =>  () -> False로 간주\n",
        "# 빈 dict => {} -> False로 간주\n",
        "# 숫자 0 => False로 간주 (0 이외의 다른 숫자는 True로 간주)\n",
        "\n",
        "a = True\n",
        "b = False\n",
        "\n",
        "print(int(a))               # => 1\n",
        "print(int(b))               # => 0"
      ],
      "metadata": {
        "colab": {
          "base_uri": "https://localhost:8080/"
        },
        "id": "UC4yxcIp0JcN",
        "outputId": "c9f3430f-1777-414b-ccdb-55e3a93b4ea3"
      },
      "execution_count": 22,
      "outputs": [
        {
          "output_type": "stream",
          "name": "stdout",
          "text": [
            "1\n",
            "0\n"
          ]
        }
      ]
    },
    {
      "cell_type": "code",
      "source": [
        "# 날자 타입에 대해서 알아보자\n",
        "# 기본 타입이 아니에요\n",
        "# 날짜를 사용하려면 당연히 import를 해야 해요\n",
        "from datetime import date, datetime\n",
        "today = date.today()\n",
        "print(today)\n",
        "today = datetime.today()\n",
        "print(today)\n",
        "\n",
        "# 날짜에 대한 연산이 생각보다 쉽지 않아요.\n",
        "# 날짜 연산을 쉽게 하기 위해서 모듈을 제공\n",
        "from datetime import date, datetime, timedelta\n",
        "today = date.today()\n",
        "days = timedelta(days=-1)\n",
        "print(today + days)\n",
        "# timedelta는 월과 연도는 사용할 수 없어요. 일만 사용할 수 있어요!\n"
      ],
      "metadata": {
        "colab": {
          "base_uri": "https://localhost:8080/"
        },
        "id": "Jz2Ng3Gx4dFn",
        "outputId": "7ce7a3ee-512a-417c-b63c-e1ed3a8b8a12"
      },
      "execution_count": 32,
      "outputs": [
        {
          "output_type": "stream",
          "name": "stdout",
          "text": [
            "2025-08-18\n",
            "2025-08-18 02:09:55.741833\n",
            "2025-08-17\n"
          ]
        }
      ]
    },
    {
      "cell_type": "code",
      "source": [
        "from dateutil.relativedelta import relativedelta\n",
        "today = date.today()\n",
        "days = relativedelta(months=-2)\n",
        "print(today + days)"
      ],
      "metadata": {
        "colab": {
          "base_uri": "https://localhost:8080/"
        },
        "id": "cLXzj5XS8Mp8",
        "outputId": "36561dd5-0ead-484b-e204-ab4df88e2c77"
      },
      "execution_count": 35,
      "outputs": [
        {
          "output_type": "stream",
          "name": "stdout",
          "text": [
            "2025-06-18\n"
          ]
        }
      ]
    },
    {
      "cell_type": "code",
      "source": [
        "print('이것은 소리없는 아우성!', end=' ')\n",
        "print('노스텔지어의 손수건')\n",
        "a = 100\n",
        "b = 200\n",
        "# 100과 200을 더한 값은 300 입니다.\n",
        "print(f'{a}과 {b}을 더한 값은')\n",
        "print(str(a) + '과 ' + str(b) + '을 더한 값은')"
      ],
      "metadata": {
        "colab": {
          "base_uri": "https://localhost:8080/"
        },
        "id": "3goPxcGz9dKX",
        "outputId": "cfee5428-a8d7-4d87-f2cb-93478eefbee0"
      },
      "execution_count": 58,
      "outputs": [
        {
          "output_type": "stream",
          "name": "stdout",
          "text": [
            "이것은 소리없는 아우성! 노스텔지어의 손수건\n",
            "100과 200을 더한 값은\n",
            "100과 200을 더한 값은\n"
          ]
        }
      ]
    },
    {
      "cell_type": "code",
      "source": [
        "# Control Statement(제어문)\n",
        "# 조건에 따른 분기문 - if\n",
        "\n",
        "x = 5\n",
        "if x > 5 :\n",
        "    # block이 시작\n",
        "    print('x값이 5보다 커요!')\n",
        "elif x == 5 :\n",
        "    print('x값은 5에요!')\n",
        "else :\n",
        "    print('x값은 5보다 작아요!')"
      ],
      "metadata": {
        "colab": {
          "base_uri": "https://localhost:8080/"
        },
        "id": "i-nTGmXvE3o_",
        "outputId": "dd089afc-7510-450b-f863-6e4f4f703dc5"
      },
      "execution_count": 66,
      "outputs": [
        {
          "output_type": "stream",
          "name": "stdout",
          "text": [
            "x값은 5에요!\n"
          ]
        }
      ]
    },
    {
      "cell_type": "code",
      "source": [
        "fruits = ['apple', 'banana', 'cherry']\n",
        "if 'apple' in fruits :\n",
        "    print ('apple이 목록에 있어요!')\n",
        "    print ('사과는 맛있어요!')\n",
        "else :\n",
        "    print('apple가 목록에 없어요!')\n",
        "    print('사과를 먹고 싶어요')"
      ],
      "metadata": {
        "colab": {
          "base_uri": "https://localhost:8080/"
        },
        "id": "ajCrINrDGi9F",
        "outputId": "b529ddd6-900e-47cf-b52b-6705c06f3581"
      },
      "execution_count": 73,
      "outputs": [
        {
          "output_type": "stream",
          "name": "stdout",
          "text": [
            "apple이 목록에 있어요!\n",
            "사과는 맛있어요!\n"
          ]
        }
      ]
    },
    {
      "cell_type": "code",
      "source": [
        "# 집합형 자료구조\n",
        "# list, tuple, range, str, dict, set\n",
        "student_score = {'홍길동':20, '신사임당':80}\n",
        "if '신사임당' in student_score :\n",
        "    print('신사임당이 dict안에 있어요!')"
      ],
      "metadata": {
        "colab": {
          "base_uri": "https://localhost:8080/"
        },
        "id": "ofsZa9xQHYFM",
        "outputId": "0ecf72d6-958e-4783-cd9c-d79858be347e"
      },
      "execution_count": 78,
      "outputs": [
        {
          "output_type": "stream",
          "name": "stdout",
          "text": [
            "신사임당이 dict안에 있어요!\n"
          ]
        }
      ]
    },
    {
      "cell_type": "code",
      "source": [
        "# for 문\n",
        "# 반복문 (반복할 횟수가 정해져 있을 때 사용)\n",
        "# 일반적으로 2가지 형태로 사용\n",
        "# 1. for ~ in range() => 반복횟수를 고정해서 사용할 때 10번, 100번\n",
        "# 2. for ~ in list / dict => 집합형 자료구조 안에 요소의 갯수만큼 반복"
      ],
      "metadata": {
        "id": "JIosrCUtITDE"
      },
      "execution_count": 81,
      "outputs": []
    },
    {
      "cell_type": "code",
      "source": [
        "# 1부터 100까지 숫자의 합을 수하세요\n",
        "my_sum = 0                  # 값을 누적할 변수\n",
        "\n",
        "my_range = range(1, 101, 1) # 1부터 100까지 1씩 증가하는 값들의 모임\n",
        "# 100번 반복\n",
        "for tmp in my_range:\n",
        "    my_sum += tmp           # my_sum = my_sum + tmp\n",
        "\n",
        "print(f'1부터 100까지 1씩 증가하여 더한 값은 {my_sum} 입니다.')\n",
        "\n",
        "\n",
        "a = [1, 2, 3, 4, 5]\n",
        "for tmp in a :\n",
        "    print(tmp, end = ' ')"
      ],
      "metadata": {
        "colab": {
          "base_uri": "https://localhost:8080/"
        },
        "id": "ts8W3D3oJYjD",
        "outputId": "ad5242e7-a4ba-4282-8257-b808ba25414d"
      },
      "execution_count": 92,
      "outputs": [
        {
          "output_type": "stream",
          "name": "stdout",
          "text": [
            "1부터 100까지 1씩 증가하여 더한 값은 5050 입니다.\n",
            "1 2 3 4 5 "
          ]
        }
      ]
    },
    {
      "cell_type": "code",
      "source": [
        "from ast import RShift\n",
        "# Comprehension 개념이 있어요!\n",
        "# List Comprehension\n",
        "\n",
        "my_list = [1, 2, 3, 4, 5, 6, 7, 8, 9]\n",
        "\n",
        "score1 = [tmp * 2 for tmp in my_list if tmp % 2 == 0]\n",
        "print(score1)\n",
        "\n",
        "# 1부터 10까지 각 수의 제곱의 값을 가지고 있는 list를 생성하세요!\n",
        "# 내 답안\n",
        "my_range = range(1, 11, 1)\n",
        "result_list = []\n",
        "#for tmp in my_range :\n",
        "    # result_list = result_list.add(tmp * tmp)\n",
        "\n",
        "print(result_list)\n",
        "\n",
        "# 선생님 답안\n",
        "squares = [tmp ** 2 for tmp in range(1, 11)]\n",
        "print(squares)\n",
        "\n",
        "\n",
        "# 리스트의 각 단어에서 'a'가 포함된 단어들만 필터링해서 새로운 리스트를 만드세요!\n",
        "words = ['apple', 'banana', 'cherry', 'date']\n",
        "\n",
        "# 내 답안\n",
        "a_list = [tmp for tmp in words if 'a' in words]\n",
        "print(a_list)\n",
        "\n",
        "# 선생님 답안\n",
        "filtered_words = [word for word in words if 'a' in word]\n",
        "print(filtered_words)\n",
        "\n",
        "\n",
        "# 1부터 10까지 숫자 중 짝수와 그 제곱값을 tuple로 만들어\n",
        "# 해당 tuple을 요소로 가지는 새로운 list로 생성하기\n",
        "\n",
        "# 내 답안\n",
        "result = [tuple(tmp ** 2 for tmp in range(1, 11) if tmp % 2 == 0)]\n",
        "print(result)\n",
        "\n",
        "# 선생님 답안\n",
        "my_list = [(tmp, tmp ** 2) for tmp in range(1,11) if tmp % 2 == 0]\n",
        "print(my_list)"
      ],
      "metadata": {
        "colab": {
          "base_uri": "https://localhost:8080/"
        },
        "id": "80_J1uwdKhiC",
        "outputId": "8c570871-e1ef-4f6c-af2c-b292e630fce5"
      },
      "execution_count": 121,
      "outputs": [
        {
          "output_type": "stream",
          "name": "stdout",
          "text": [
            "[4, 8, 12, 16]\n",
            "[]\n",
            "[1, 4, 9, 16, 25, 36, 49, 64, 81, 100]\n",
            "[]\n",
            "['apple', 'banana', 'date']\n",
            "[(4, 16, 36, 64, 100)]\n",
            "[(2, 4), (4, 16), (6, 36), (8, 64), (10, 100)]\n"
          ]
        }
      ]
    }
  ]
}