{
  "nbformat": 4,
  "nbformat_minor": 0,
  "metadata": {
    "colab": {
      "provenance": [],
      "authorship_tag": "ABX9TyMBQsd48383Q0dQ9+HO1raA",
      "include_colab_link": true
    },
    "kernelspec": {
      "name": "python3",
      "display_name": "Python 3"
    },
    "language_info": {
      "name": "python"
    }
  },
  "cells": [
    {
      "cell_type": "markdown",
      "metadata": {
        "id": "view-in-github",
        "colab_type": "text"
      },
      "source": [
        "<a href=\"https://colab.research.google.com/github/yjbae227/KDT_Class_Python/blob/main/0818.ipynb\" target=\"_parent\"><img src=\"https://colab.research.google.com/assets/colab-badge.svg\" alt=\"Open In Colab\"/></a>"
      ]
    },
    {
      "cell_type": "code",
      "execution_count": null,
      "metadata": {
        "id": "QYoPcaICjBS5",
        "colab": {
          "base_uri": "https://localhost:8080/"
        },
        "outputId": "8ac82e1b-4210-40a1-f64f-e7a75827b732"
      },
      "outputs": [
        {
          "output_type": "stream",
          "name": "stdout",
          "text": [
            "<class 'set'>\n",
            "{1, 2, 3, 4, 5}\n",
            "{1, 2, 3, 4, 5}\n",
            "{1, 2, 3, 4, 5, 6, 7}\n",
            "{1, 2, 3, 4, 5, 6, 7}\n",
            "{1, 2}\n",
            "{1, 2}\n",
            "{3, 4, 5}\n",
            "{3, 4, 5}\n",
            "{1, 2, 3, 4, 5, 10}\n",
            "{1, 2, 4, 5, 10}\n"
          ]
        }
      ],
      "source": [
        "# Set Type\n",
        "# 데이터를 저장할 수 있는 주머니라고 생각하면 되요\n",
        "# 순서가 없어요! Key도 없어요!  => 중복을 배제\n",
        "# literal은 어떤 걸 사용하나요? => {}\n",
        "# 대신 set은 key와 value의 쌍이 아니라 그냥 값만 포함해요!\n",
        "a = {1, 2, 3}\n",
        "print(type(a))          # <class 'set'>\n",
        "a = set()               # set class의 instance(객체)를 생성하세요\n",
        "a = set([1, 2, 3, 4, 5])\n",
        "print(a)\n",
        "a = set ([1, 2, 3, 4, 5, 5, 4, 2, 1, 1])\n",
        "print(a)\n",
        "\n",
        "# set은 수학적으로 집합을 의미해서 집합 연산을 제공\n",
        "# 합집합, 교집합, 차집합\n",
        "s1 = set([1, 2, 3, 4, 5])\n",
        "s2 = set([3, 4, 5, 6, 7])\n",
        "print(s1 | s2)                      # union 연산\n",
        "print(s1.union(s2))                 # union 연산\n",
        "print(s1 - s2)                      # 차집합 연산\n",
        "print(s1.difference(s2))            # 차집합 연산\n",
        "print(s1 & s2)                      # 교집합 연산\n",
        "print(s1.intersection(s2))          # 교집합 연산ㅣ\n",
        "\n",
        "a = set([1,2,3,4,5])\n",
        "a.add(10)\n",
        "print(a)\n",
        "a.remove(3)\n",
        "print(a)"
      ]
    },
    {
      "cell_type": "code",
      "source": [
        "# 마지막 6번째 Built-in Type\n",
        "# Bool type\n",
        "# 사용하는 class는 Bool class\n",
        "# 사용할 수 있는 값은 딱 2개 있어요 -> Ture, False\n",
        "\n",
        "# 주의해야 할 점\n",
        "# 빈 문자열 => '', \"\" -> False로 간주\n",
        "# 빈 리스트 => [] -> False로 간주\n",
        "# 빈 tuple =>  () -> False로 간주\n",
        "# 빈 dict => {} -> False로 간주\n",
        "# 숫자 0 => False로 간주 (0 이외의 다른 숫자는 True로 간주)\n",
        "\n",
        "a = True\n",
        "b = False\n",
        "\n",
        "print(int(a))               # => 1\n",
        "print(int(b))               # => 0"
      ],
      "metadata": {
        "colab": {
          "base_uri": "https://localhost:8080/"
        },
        "id": "UC4yxcIp0JcN",
        "outputId": "c9f3430f-1777-414b-ccdb-55e3a93b4ea3"
      },
      "execution_count": null,
      "outputs": [
        {
          "output_type": "stream",
          "name": "stdout",
          "text": [
            "1\n",
            "0\n"
          ]
        }
      ]
    },
    {
      "cell_type": "code",
      "source": [
        "# 날자 타입에 대해서 알아보자\n",
        "# 기본 타입이 아니에요\n",
        "# 날짜를 사용하려면 당연히 import를 해야 해요\n",
        "from datetime import date, datetime\n",
        "today = date.today()\n",
        "print(today)\n",
        "today = datetime.today()\n",
        "print(today)\n",
        "\n",
        "# 날짜에 대한 연산이 생각보다 쉽지 않아요.\n",
        "# 날짜 연산을 쉽게 하기 위해서 모듈을 제공\n",
        "from datetime import date, datetime, timedelta\n",
        "today = date.today()\n",
        "days = timedelta(days=-1)\n",
        "print(today + days)\n",
        "# timedelta는 월과 연도는 사용할 수 없어요. 일만 사용할 수 있어요!\n"
      ],
      "metadata": {
        "colab": {
          "base_uri": "https://localhost:8080/"
        },
        "id": "Jz2Ng3Gx4dFn",
        "outputId": "7ce7a3ee-512a-417c-b63c-e1ed3a8b8a12"
      },
      "execution_count": null,
      "outputs": [
        {
          "output_type": "stream",
          "name": "stdout",
          "text": [
            "2025-08-18\n",
            "2025-08-18 02:09:55.741833\n",
            "2025-08-17\n"
          ]
        }
      ]
    },
    {
      "cell_type": "code",
      "source": [
        "from dateutil.relativedelta import relativedelta\n",
        "today = date.today()\n",
        "days = relativedelta(months=-2)\n",
        "print(today + days)"
      ],
      "metadata": {
        "colab": {
          "base_uri": "https://localhost:8080/"
        },
        "id": "cLXzj5XS8Mp8",
        "outputId": "36561dd5-0ead-484b-e204-ab4df88e2c77"
      },
      "execution_count": null,
      "outputs": [
        {
          "output_type": "stream",
          "name": "stdout",
          "text": [
            "2025-06-18\n"
          ]
        }
      ]
    },
    {
      "cell_type": "code",
      "source": [
        "print('이것은 소리없는 아우성!', end=' ')\n",
        "print('노스텔지어의 손수건')\n",
        "a = 100\n",
        "b = 200\n",
        "# 100과 200을 더한 값은 300 입니다.\n",
        "print(f'{a}과 {b}을 더한 값은')\n",
        "print(str(a) + '과 ' + str(b) + '을 더한 값은')"
      ],
      "metadata": {
        "colab": {
          "base_uri": "https://localhost:8080/"
        },
        "id": "3goPxcGz9dKX",
        "outputId": "cfee5428-a8d7-4d87-f2cb-93478eefbee0"
      },
      "execution_count": null,
      "outputs": [
        {
          "output_type": "stream",
          "name": "stdout",
          "text": [
            "이것은 소리없는 아우성! 노스텔지어의 손수건\n",
            "100과 200을 더한 값은\n",
            "100과 200을 더한 값은\n"
          ]
        }
      ]
    },
    {
      "cell_type": "code",
      "source": [
        "# Control Statement(제어문)\n",
        "# 조건에 따른 분기문 - if\n",
        "\n",
        "x = 5\n",
        "if x > 5 :\n",
        "    # block이 시작\n",
        "    print('x값이 5보다 커요!')\n",
        "elif x == 5 :\n",
        "    print('x값은 5에요!')\n",
        "else :\n",
        "    print('x값은 5보다 작아요!')"
      ],
      "metadata": {
        "colab": {
          "base_uri": "https://localhost:8080/"
        },
        "id": "i-nTGmXvE3o_",
        "outputId": "dd089afc-7510-450b-f863-6e4f4f703dc5"
      },
      "execution_count": null,
      "outputs": [
        {
          "output_type": "stream",
          "name": "stdout",
          "text": [
            "x값은 5에요!\n"
          ]
        }
      ]
    },
    {
      "cell_type": "code",
      "source": [
        "fruits = ['apple', 'banana', 'cherry']\n",
        "if 'apple' in fruits :\n",
        "    print ('apple이 목록에 있어요!')\n",
        "    print ('사과는 맛있어요!')\n",
        "else :\n",
        "    print('apple가 목록에 없어요!')\n",
        "    print('사과를 먹고 싶어요')"
      ],
      "metadata": {
        "colab": {
          "base_uri": "https://localhost:8080/"
        },
        "id": "ajCrINrDGi9F",
        "outputId": "b529ddd6-900e-47cf-b52b-6705c06f3581"
      },
      "execution_count": null,
      "outputs": [
        {
          "output_type": "stream",
          "name": "stdout",
          "text": [
            "apple이 목록에 있어요!\n",
            "사과는 맛있어요!\n"
          ]
        }
      ]
    },
    {
      "cell_type": "code",
      "source": [
        "# 집합형 자료구조\n",
        "# list, tuple, range, str, dict, set\n",
        "student_score = {'홍길동':20, '신사임당':80}\n",
        "if '신사임당' in student_score :\n",
        "    print('신사임당이 dict안에 있어요!')"
      ],
      "metadata": {
        "colab": {
          "base_uri": "https://localhost:8080/"
        },
        "id": "ofsZa9xQHYFM",
        "outputId": "0ecf72d6-958e-4783-cd9c-d79858be347e"
      },
      "execution_count": null,
      "outputs": [
        {
          "output_type": "stream",
          "name": "stdout",
          "text": [
            "신사임당이 dict안에 있어요!\n"
          ]
        }
      ]
    },
    {
      "cell_type": "code",
      "source": [
        "# for 문\n",
        "# 반복문 (반복할 횟수가 정해져 있을 때 사용)\n",
        "# 일반적으로 2가지 형태로 사용\n",
        "# 1. for ~ in range() => 반복횟수를 고정해서 사용할 때 10번, 100번\n",
        "# 2. for ~ in list / dict => 집합형 자료구조 안에 요소의 갯수만큼 반복"
      ],
      "metadata": {
        "id": "JIosrCUtITDE"
      },
      "execution_count": null,
      "outputs": []
    },
    {
      "cell_type": "code",
      "source": [
        "# 1부터 100까지 숫자의 합을 수하세요\n",
        "my_sum = 0                  # 값을 누적할 변수\n",
        "\n",
        "my_range = range(1, 101, 1) # 1부터 100까지 1씩 증가하는 값들의 모임\n",
        "# 100번 반복\n",
        "for tmp in my_range:\n",
        "    my_sum += tmp           # my_sum = my_sum + tmp\n",
        "\n",
        "print(f'1부터 100까지 1씩 증가하여 더한 값은 {my_sum} 입니다.')\n",
        "\n",
        "\n",
        "a = [1, 2, 3, 4, 5]\n",
        "for tmp in a :\n",
        "    print(tmp, end = ' ')"
      ],
      "metadata": {
        "colab": {
          "base_uri": "https://localhost:8080/"
        },
        "id": "ts8W3D3oJYjD",
        "outputId": "ad5242e7-a4ba-4282-8257-b808ba25414d"
      },
      "execution_count": null,
      "outputs": [
        {
          "output_type": "stream",
          "name": "stdout",
          "text": [
            "1부터 100까지 1씩 증가하여 더한 값은 5050 입니다.\n",
            "1 2 3 4 5 "
          ]
        }
      ]
    },
    {
      "cell_type": "code",
      "source": [
        "from ast import RShift\n",
        "# Comprehension 개념이 있어요!\n",
        "# List Comprehension\n",
        "\n",
        "my_list = [1, 2, 3, 4, 5, 6, 7, 8, 9]\n",
        "\n",
        "score1 = [tmp * 2 for tmp in my_list if tmp % 2 == 0]\n",
        "print(score1)\n",
        "\n",
        "# 1부터 10까지 각 수의 제곱의 값을 가지고 있는 list를 생성하세요!\n",
        "# 내 답안\n",
        "my_range = range(1, 11, 1)\n",
        "result_list = []\n",
        "\n",
        "for tmp in my_range :\n",
        "    tmp = tmp ** 2\n",
        "    result_list.append(tmp)\n",
        "\n",
        "print(result_list)\n",
        "\n",
        "# 선생님 답안\n",
        "squares = [tmp ** 2 for tmp in range(1, 11)]\n",
        "print(squares)\n",
        "\n",
        "\n",
        "# 리스트의 각 단어에서 'a'가 포함된 단어들만 필터링해서 새로운 리스트를 만드세요!\n",
        "words = ['apple', 'banana', 'cherry', 'date']\n",
        "\n",
        "# 내 답안\n",
        "a_list = [tmp for tmp in words if 'a' in words]\n",
        "print(a_list)\n",
        "\n",
        "# 선생님 답안\n",
        "filtered_words = [word for word in words if 'a' in word]\n",
        "print(filtered_words)\n",
        "\n",
        "\n",
        "# 1부터 10까지 숫자 중 짝수와 그 제곱값을 tuple로 만들어\n",
        "# 해당 tuple을 요소로 가지는 새로운 list로 생성하기\n",
        "\n",
        "# 내 답안\n",
        "result = [tuple(tmp ** 2 for tmp in range(1, 11) if tmp % 2 == 0)]\n",
        "print(result)\n",
        "\n",
        "# 선생님 답안\n",
        "my_list = [(tmp, tmp ** 2) for tmp in range(1,11) if tmp % 2 == 0]\n",
        "print(my_list)"
      ],
      "metadata": {
        "colab": {
          "base_uri": "https://localhost:8080/"
        },
        "id": "80_J1uwdKhiC",
        "outputId": "e767db7a-c991-4a37-8576-340293755c8d"
      },
      "execution_count": null,
      "outputs": [
        {
          "output_type": "stream",
          "name": "stdout",
          "text": [
            "[4, 8, 12, 16]\n",
            "[1, 4, 9, 16, 25, 36, 49, 64, 81, 100]\n",
            "[1, 4, 9, 16, 25, 36, 49, 64, 81, 100]\n",
            "[]\n",
            "['apple', 'banana', 'date']\n",
            "[(4, 16, 36, 64, 100)]\n",
            "[(2, 4), (4, 16), (6, 36), (8, 64), (10, 100)]\n"
          ]
        }
      ]
    },
    {
      "cell_type": "code",
      "source": [
        "# Function(함수)\n",
        "\n",
        "# 반복되고 자주 사용되는 코드를 일련의 코드단위로 만들어 놓은 것.\n",
        "# 내장 함수와 사용자 정의 함수가 있어요.\n",
        "# type()과 같은게 내장 함수에요. 주요한 내장함수는 알고 있는게 좋아요.\n",
        "# 사용자 정의 함수는 우리가 직접 함수를 만들어 사용하는 걸 말해요\n",
        "# 사용자 정의 함수의 이름은 특별한 형식으로 만들어요\n",
        "\n",
        "#\n",
        "# 프로그래밍 언어에서\n",
        "# 이름을 짓는 방법 (예를 들어서 변수이름, 함수이름)\n",
        "# 3가지 방법이 있어요\n",
        "# 1. 의미가 있는 이름을 사용해야 해요\n",
        "# 2. 단일 단어는 피해요\n",
        "# 3. 이름 짓는 방법\n",
        "#       - studentName (카멜케이스 노테이션): 첫글자 소문자, 연결된 단어는 첫글자 대문자\n",
        "#       - StudentName (파스칼케이스 노테이션) : 첫글자 대문자, 연결되는 단어 첫글자 대문자\n",
        "#       - student_name (스네이크케이스 노테이션) : 두 단어를 _를 이용해서 소문자로 연결 => python의 변수와 함수"
      ],
      "metadata": {
        "id": "FNa9j4_OsN7r"
      },
      "execution_count": null,
      "outputs": []
    },
    {
      "cell_type": "code",
      "source": [
        "# 사용자 정의 함수를 만드는 방법에 대해서 알아보아요!\n",
        "# 사용자 keyword는 def\n",
        "def my_sum (a, b, c) :                      # a, b, c => 형식인자\n",
        "    # 함수 호출했을 때 실행되는 코드 1\n",
        "    # 함수 호출했을 때 실행되는 코드 2\n",
        "    # ...\n",
        "    # 거의 예외없이 맨 마지막에 return 구문이 있어요\n",
        "    return a + b + c\n",
        "\n",
        "result = my_sum(10, 20, 30)                 # 10, 20, 30 => 실인자\n",
        "print(f'Result의 값은 : {result}')\n",
        "# 기본적인 함수 사용법!"
      ],
      "metadata": {
        "colab": {
          "base_uri": "https://localhost:8080/"
        },
        "id": "-odXvrvMvhBa",
        "outputId": "7d41c8ac-9636-4a74-f913-48b125d1473a"
      },
      "execution_count": null,
      "outputs": [
        {
          "output_type": "stream",
          "name": "stdout",
          "text": [
            "Result의 값은 : 60\n"
          ]
        }
      ]
    },
    {
      "cell_type": "code",
      "source": [
        "# 함수로 인자가 전달되는데\n",
        "# 위의 코드와는 다르게 인자의 수가 가변적일 수가 있어요!\n",
        "\n",
        "def my_sum(*args) :                     # 인자로 전달된 데이터를 tuple로 받아요\n",
        "    result = 0\n",
        "    for i in range(len(args)) :\n",
        "        result += args[i]\n",
        "    return result\n",
        "\n",
        "print(my_sum(10))\n",
        "print(my_sum(10, 20, 30, 40))\n",
        "print(my_sum(10, 20))"
      ],
      "metadata": {
        "colab": {
          "base_uri": "https://localhost:8080/"
        },
        "id": "u5VPoooCx7No",
        "outputId": "6fff34fc-484c-4fb2-af37-cc0fe0175fe2"
      },
      "execution_count": null,
      "outputs": [
        {
          "output_type": "stream",
          "name": "stdout",
          "text": [
            "10\n",
            "100\n",
            "30\n"
          ]
        }
      ]
    },
    {
      "cell_type": "code",
      "source": [
        "# 많이들 혼동(착각?) 하는 거\n",
        "# 함수의 결과값(리턴값)은 무조건 하나에요\n",
        "def my_sum (a, b) :\n",
        "    print(a)\n",
        "    print(b)\n",
        "    result1 = a + b\n",
        "    result2 = a * b\n",
        "    return (result1, result2)               # 마치 2개의 값을 return 하는 것처럼 보여요\n",
        "                                            # 하지만 tuple 1개를 리턴하는 거에요\n",
        "\n",
        "output = my_sum(b = 10, a = 20)             # keyword parameter\n",
        "print(output)"
      ],
      "metadata": {
        "colab": {
          "base_uri": "https://localhost:8080/"
        },
        "id": "vJ6TxJbX0F_R",
        "outputId": "b81585ee-3976-403b-8324-a473cb00822f"
      },
      "execution_count": null,
      "outputs": [
        {
          "output_type": "stream",
          "name": "stdout",
          "text": [
            "20\n",
            "10\n",
            "(30, 200)\n"
          ]
        }
      ]
    },
    {
      "cell_type": "code",
      "source": [
        "# Immutable Object와 Mutable Object의 사용이 달라요!\n",
        "# Immutuble Object(불변 객체)\n",
        "#   - Numeric, tuple, range, str, bool\n",
        "# Mutable Object(가변 객체)\n",
        "#   - list, dict, set\n",
        "\n",
        "# 함수에 값을 전달했어요.\n",
        "# 그런데 값을 전달 할 때 전달 하려는 값을 복사해서\n",
        "# 함수에 전달하는 경우가 있어요\n",
        "# 함수내부에서 내가 전달한 값을 변경해도 원래 나의 값은\n",
        "# 변경되지 않아요\n",
        "def modify_value(x) :\n",
        "    x = x + 10\n",
        "    print(f'함수 내부에서의 x값은 : {x}')\n",
        "\n",
        "num = 5             # int class (Numeric)\n",
        "modify_value(num)\n",
        "print(f'함수 외부에서의 x값은 : {num}')\n",
        "\n",
        "def modify_list(lst) :            # lst로 list가 전달 됨\n",
        "    lst.append(4)\n",
        "    print(f'함수 내부에서 list : {lst}')\n",
        "\n",
        "my_list = [1, 2, 3]\n",
        "modify_list(my_list)\n",
        "print(f'함수 외부에서 list : {my_list}')"
      ],
      "metadata": {
        "colab": {
          "base_uri": "https://localhost:8080/"
        },
        "id": "gQk9etvo5gOh",
        "outputId": "e7efba62-723e-4d40-da80-6b8ac982c79e"
      },
      "execution_count": null,
      "outputs": [
        {
          "output_type": "stream",
          "name": "stdout",
          "text": [
            "함수 내부에서의 x값은 : 15\n",
            "함수 외부에서의 x값은 : 5\n",
            "함수 내부에서 list : [1, 2, 3, 4]\n",
            "함수 외부에서 list : [1, 2, 3, 4]\n"
          ]
        }
      ]
    },
    {
      "cell_type": "code",
      "source": [
        "# 사용자 정의 함수에 대해서는 기본적으로\n",
        "# 여기까지 기억하시면 됩니다.\n",
        "\n",
        "\n",
        "# override 가능한데?!\n",
        "def fun1 (a, b, c) :\n",
        "    return 3\n",
        "def fun2 (a, b) :\n",
        "    return 2\n",
        "\n",
        "\n",
        "a = ([40, 20, 30 ])\n",
        "print(a)\n",
        "\n",
        "def sorting_tuple(a) :\n",
        "    a.sort()\n",
        "    print(f'sort a in function : {a}')\n",
        "    return a\n",
        "\n",
        "print(sorting_tuple(a))\n",
        "\n",
        "\n",
        "a = [(3, 4, 2, 6, 1)]\n",
        "\n",
        "def sorting_list(a) :\n",
        "    a.sort()\n",
        "    print(f'sort a in function : {a}')\n",
        "    return a\n",
        "\n",
        "print(sorting_list(a))\n",
        "\n",
        "a = ([40, 20, 30, 10],)              # tuple -> 불변 W\n",
        "a = [(40, 20, 30, 10)]               # list -> 가변\n",
        "\n",
        "\n"
      ],
      "metadata": {
        "colab": {
          "base_uri": "https://localhost:8080/",
          "height": 311
        },
        "id": "iAEcizxH9RQA",
        "outputId": "46d19b39-ed5a-47a2-a1e1-f6571ec0853b"
      },
      "execution_count": null,
      "outputs": [
        {
          "output_type": "stream",
          "name": "stdout",
          "text": [
            "[40, 20, 30]\n",
            "sort a in function : [20, 30, 40]\n",
            "[20, 30, 40]\n",
            "sort a in function : [(3, 4, 2, 6, 1)]\n",
            "[(3, 4, 2, 6, 1)]\n"
          ]
        },
        {
          "output_type": "error",
          "ename": "AttributeError",
          "evalue": "'tuple' object has no attribute 'sort'",
          "traceback": [
            "\u001b[0;31m---------------------------------------------------------------------------\u001b[0m",
            "\u001b[0;31mAttributeError\u001b[0m                            Traceback (most recent call last)",
            "\u001b[0;32m/tmp/ipython-input-2163375744.py\u001b[0m in \u001b[0;36m<cell line: 0>\u001b[0;34m()\u001b[0m\n\u001b[1;32m     32\u001b[0m \u001b[0ma\u001b[0m \u001b[0;34m=\u001b[0m \u001b[0;34m(\u001b[0m\u001b[0;34m[\u001b[0m\u001b[0;36m40\u001b[0m\u001b[0;34m,\u001b[0m \u001b[0;36m20\u001b[0m\u001b[0;34m,\u001b[0m \u001b[0;36m30\u001b[0m\u001b[0;34m,\u001b[0m \u001b[0;36m10\u001b[0m\u001b[0;34m]\u001b[0m\u001b[0;34m,\u001b[0m\u001b[0;34m)\u001b[0m              \u001b[0;31m# tuple -> 불변\u001b[0m\u001b[0;34m\u001b[0m\u001b[0;34m\u001b[0m\u001b[0m\n\u001b[1;32m     33\u001b[0m \u001b[0;34m\u001b[0m\u001b[0m\n\u001b[0;32m---> 34\u001b[0;31m \u001b[0ma\u001b[0m\u001b[0;34m.\u001b[0m\u001b[0msort\u001b[0m\u001b[0;34m(\u001b[0m\u001b[0;34m)\u001b[0m\u001b[0;34m\u001b[0m\u001b[0;34m\u001b[0m\u001b[0m\n\u001b[0m\u001b[1;32m     35\u001b[0m \u001b[0ma\u001b[0m \u001b[0;34m=\u001b[0m \u001b[0;34m[\u001b[0m\u001b[0;34m(\u001b[0m\u001b[0;36m40\u001b[0m\u001b[0;34m,\u001b[0m \u001b[0;36m20\u001b[0m\u001b[0;34m,\u001b[0m \u001b[0;36m30\u001b[0m\u001b[0;34m,\u001b[0m \u001b[0;36m10\u001b[0m\u001b[0;34m)\u001b[0m\u001b[0;34m]\u001b[0m               \u001b[0;31m# list -> 가변\u001b[0m\u001b[0;34m\u001b[0m\u001b[0;34m\u001b[0m\u001b[0m\n\u001b[1;32m     36\u001b[0m \u001b[0;34m\u001b[0m\u001b[0m\n",
            "\u001b[0;31mAttributeError\u001b[0m: 'tuple' object has no attribute 'sort'"
          ]
        }
      ]
    },
    {
      "cell_type": "code",
      "source": [
        "# 문제 1: 리스트의 합 구하기\n",
        "# 주어진 리스트의 모든 요소의 합을 구하는 함수를 작성하세요.\n",
        "\n",
        "def sum_of_list(lst) :\n",
        "    sum_lst = 0\n",
        "\n",
        "    for tmp in lst :\n",
        "        sum_lst += tmp\n",
        "    return sum_lst\n",
        "\n",
        "\n",
        "print(sum_of_list([1, 2, 3, 4]))        # 출력 10\n",
        "\n",
        "\n",
        "###############################################################################\n",
        "\n",
        "# 문제 2: 리스트에서 최댓값과 최솟값 구하기\n",
        "# 리스트에서 최댓값과 최솟값을 구하는 함수를 작성하세요.\n",
        "\n",
        "def max_and_min(lst) :\n",
        "    lst.sort()\n",
        "    return lst[0], lst[-1]\n",
        "\n",
        "print(max_and_min([10, 20, 4, 45, 99]))\n"
      ],
      "metadata": {
        "colab": {
          "base_uri": "https://localhost:8080/"
        },
        "id": "wnGuzEiB-Gb4",
        "outputId": "02519873-f2ce-4b58-e50a-694c2b145ba7"
      },
      "execution_count": null,
      "outputs": [
        {
          "output_type": "stream",
          "name": "stdout",
          "text": [
            "10\n",
            "(4, 99)\n"
          ]
        }
      ]
    },
    {
      "cell_type": "code",
      "source": [
        "\n",
        "a = (1, 3, 2, 4, 5)\n",
        "\n",
        "print(sorted(a))"
      ],
      "metadata": {
        "colab": {
          "base_uri": "https://localhost:8080/"
        },
        "id": "RqB4-y0VYZBj",
        "outputId": "2a69d283-5a1c-4094-ba42-9d072be374f2"
      },
      "execution_count": null,
      "outputs": [
        {
          "output_type": "stream",
          "name": "stdout",
          "text": [
            "[1, 2, 3, 4, 5]\n"
          ]
        }
      ]
    }
  ]
}