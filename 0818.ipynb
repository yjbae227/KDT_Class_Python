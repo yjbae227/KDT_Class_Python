{
  "nbformat": 4,
  "nbformat_minor": 0,
  "metadata": {
    "colab": {
      "provenance": [],
      "authorship_tag": "ABX9TyNh5VSwChyHJaMhvGAqMej1",
      "include_colab_link": true
    },
    "kernelspec": {
      "name": "python3",
      "display_name": "Python 3"
    },
    "language_info": {
      "name": "python"
    }
  },
  "cells": [
    {
      "cell_type": "markdown",
      "metadata": {
        "id": "view-in-github",
        "colab_type": "text"
      },
      "source": [
        "<a href=\"https://colab.research.google.com/github/yjbae227/KDT_Class_Python/blob/main/0818.ipynb\" target=\"_parent\"><img src=\"https://colab.research.google.com/assets/colab-badge.svg\" alt=\"Open In Colab\"/></a>"
      ]
    },
    {
      "cell_type": "code",
      "execution_count": 18,
      "metadata": {
        "id": "QYoPcaICjBS5",
        "colab": {
          "base_uri": "https://localhost:8080/"
        },
        "outputId": "8ac82e1b-4210-40a1-f64f-e7a75827b732"
      },
      "outputs": [
        {
          "output_type": "stream",
          "name": "stdout",
          "text": [
            "<class 'set'>\n",
            "{1, 2, 3, 4, 5}\n",
            "{1, 2, 3, 4, 5}\n",
            "{1, 2, 3, 4, 5, 6, 7}\n",
            "{1, 2, 3, 4, 5, 6, 7}\n",
            "{1, 2}\n",
            "{1, 2}\n",
            "{3, 4, 5}\n",
            "{3, 4, 5}\n",
            "{1, 2, 3, 4, 5, 10}\n",
            "{1, 2, 4, 5, 10}\n"
          ]
        }
      ],
      "source": [
        "# Set Type\n",
        "# 데이터를 저장할 수 있는 주머니라고 생각하면 되요\n",
        "# 순서가 없어요! Key도 없어요!  => 중복을 배제\n",
        "# literal은 어떤 걸 사용하나요? => {}\n",
        "# 대신 set은 key와 value의 쌍이 아니라 그냥 값만 포함해요!\n",
        "a = {1, 2, 3}\n",
        "print(type(a))          # <class 'set'>\n",
        "a = set()               # set class의 instance(객체)를 생성하세요\n",
        "a = set([1, 2, 3, 4, 5])\n",
        "print(a)\n",
        "a = set ([1, 2, 3, 4, 5, 5, 4, 2, 1, 1])\n",
        "print(a)\n",
        "\n",
        "# set은 수학적으로 집합을 의미해서 집합 연산을 제공\n",
        "# 합집합, 교집합, 차집합\n",
        "s1 = set([1, 2, 3, 4, 5])\n",
        "s2 = set([3, 4, 5, 6, 7])\n",
        "print(s1 | s2)                      # union 연산\n",
        "print(s1.union(s2))                 # union 연산\n",
        "print(s1 - s2)                      # 차집합 연산\n",
        "print(s1.difference(s2))            # 차집합 연산\n",
        "print(s1 & s2)                      # 교집합 연산\n",
        "print(s1.intersection(s2))          # 교집합 연산ㅣ\n",
        "\n",
        "a = set([1,2,3,4,5])\n",
        "a.add(10)\n",
        "print(a)\n",
        "a.remove(3)\n",
        "print(a)"
      ]
    },
    {
      "cell_type": "code",
      "source": [
        "# 마지막 6번째 Built-in Type\n",
        "# Bool type\n",
        "# 사용하는 class는 Bool class\n",
        "# 사용할 수 있는 값은 딱 2개 있어요 -> Ture, False\n",
        "\n",
        "# 주의해야 할 점\n",
        "# 빈 문자열 => '', \"\" -> False로 간주\n",
        "# 빈 리스트 => [] -> False로 간주\n",
        "# 빈 tuple =>  () -> False로 간주\n",
        "# 빈 dict => {} -> False로 간주\n",
        "# 숫자 0 => False로 간주 (0 이외의 다른 숫자는 True로 간주)\n",
        "\n",
        "a = True\n",
        "b = False\n",
        "\n",
        "print(int(a))               # => 1\n",
        "print(int(b))               # => 0"
      ],
      "metadata": {
        "colab": {
          "base_uri": "https://localhost:8080/"
        },
        "id": "UC4yxcIp0JcN",
        "outputId": "c9f3430f-1777-414b-ccdb-55e3a93b4ea3"
      },
      "execution_count": 22,
      "outputs": [
        {
          "output_type": "stream",
          "name": "stdout",
          "text": [
            "1\n",
            "0\n"
          ]
        }
      ]
    },
    {
      "cell_type": "code",
      "source": [
        "# 날자 타입에 대해서 알아보자\n",
        "# 기본 타입이 아니에요\n",
        "# 날짜를 사용하려면 당연히 import를 해야 해요\n",
        "from datetime import date, datetime\n",
        "today = date.today()\n",
        "print(today)\n",
        "today = datetime.today()\n",
        "print(today)\n",
        "\n",
        "# 날짜에 대한 연산이 생각보다 쉽지 않아요.\n",
        "# 날짜 연산을 쉽게 하기 위해서 모듈을 제공\n",
        "from datetime import date, datetime, timedelta\n",
        "today = date.today()\n",
        "days = timedelta(days=-1)\n",
        "print(today + days)\n",
        "# timedelta는 월과 연도는 사용할 수 없어요. 일만 사용할 수 있어요!\n"
      ],
      "metadata": {
        "colab": {
          "base_uri": "https://localhost:8080/"
        },
        "id": "Jz2Ng3Gx4dFn",
        "outputId": "7ce7a3ee-512a-417c-b63c-e1ed3a8b8a12"
      },
      "execution_count": 32,
      "outputs": [
        {
          "output_type": "stream",
          "name": "stdout",
          "text": [
            "2025-08-18\n",
            "2025-08-18 02:09:55.741833\n",
            "2025-08-17\n"
          ]
        }
      ]
    },
    {
      "cell_type": "code",
      "source": [
        "from dateutil.relativedelta import relativedelta\n",
        "today = date.today()\n",
        "days = relativedelta(months=-2)\n",
        "print(today + days)"
      ],
      "metadata": {
        "colab": {
          "base_uri": "https://localhost:8080/"
        },
        "id": "cLXzj5XS8Mp8",
        "outputId": "36561dd5-0ead-484b-e204-ab4df88e2c77"
      },
      "execution_count": 35,
      "outputs": [
        {
          "output_type": "stream",
          "name": "stdout",
          "text": [
            "2025-06-18\n"
          ]
        }
      ]
    },
    {
      "cell_type": "code",
      "source": [
        "print('이것은 소리없는 아우성!', end=' ')\n",
        "print('노스텔지어의 손수건')\n",
        "a = 100\n",
        "b = 200\n",
        "# 100과 200을 더한 값은 300 입니다.\n",
        "print(f'{a}과 {b}을 더한 값은')\n",
        "print(str(a) + '과 ' + str(b) + '을 더한 값은')"
      ],
      "metadata": {
        "colab": {
          "base_uri": "https://localhost:8080/"
        },
        "id": "3goPxcGz9dKX",
        "outputId": "cfee5428-a8d7-4d87-f2cb-93478eefbee0"
      },
      "execution_count": 58,
      "outputs": [
        {
          "output_type": "stream",
          "name": "stdout",
          "text": [
            "이것은 소리없는 아우성! 노스텔지어의 손수건\n",
            "100과 200을 더한 값은\n",
            "100과 200을 더한 값은\n"
          ]
        }
      ]
    },
    {
      "cell_type": "code",
      "source": [
        "# Control Statement(제어문)\n",
        "# 조건에 따른 분기문 - if\n",
        "\n",
        "x = 5\n",
        "if x > 5 :\n",
        "    # block이 시작\n",
        "    print('x값이 5보다 커요!')\n",
        "elif x == 5 :\n",
        "    print('x값은 5에요!')\n",
        "else :\n",
        "    print('x값은 5보다 작아요!')"
      ],
      "metadata": {
        "colab": {
          "base_uri": "https://localhost:8080/"
        },
        "id": "i-nTGmXvE3o_",
        "outputId": "dd089afc-7510-450b-f863-6e4f4f703dc5"
      },
      "execution_count": 66,
      "outputs": [
        {
          "output_type": "stream",
          "name": "stdout",
          "text": [
            "x값은 5에요!\n"
          ]
        }
      ]
    },
    {
      "cell_type": "code",
      "source": [
        "fruits = ['apple', 'banana', 'cherry']\n",
        "if 'apple' in fruits :\n",
        "    print ('apple이 목록에 있어요!')\n",
        "    print ('사과는 맛있어요!')\n",
        "else :\n",
        "    print('apple가 목록에 없어요!')\n",
        "    print('사과를 먹고 싶어요')"
      ],
      "metadata": {
        "colab": {
          "base_uri": "https://localhost:8080/"
        },
        "id": "ajCrINrDGi9F",
        "outputId": "b529ddd6-900e-47cf-b52b-6705c06f3581"
      },
      "execution_count": 73,
      "outputs": [
        {
          "output_type": "stream",
          "name": "stdout",
          "text": [
            "apple이 목록에 있어요!\n",
            "사과는 맛있어요!\n"
          ]
        }
      ]
    },
    {
      "cell_type": "code",
      "source": [
        "# 집합형 자료구조\n",
        "# list, tuple, range, str, dict, set\n"
      ],
      "metadata": {
        "id": "ofsZa9xQHYFM"
      },
      "execution_count": null,
      "outputs": []
    }
  ]
}