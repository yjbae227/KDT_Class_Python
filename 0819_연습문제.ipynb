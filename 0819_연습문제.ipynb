{
  "nbformat": 4,
  "nbformat_minor": 0,
  "metadata": {
    "colab": {
      "provenance": [],
      "authorship_tag": "ABX9TyPJsMHRJ9lzIQi4MJY67YZt",
      "include_colab_link": true
    },
    "kernelspec": {
      "name": "python3",
      "display_name": "Python 3"
    },
    "language_info": {
      "name": "python"
    }
  },
  "cells": [
    {
      "cell_type": "markdown",
      "metadata": {
        "id": "view-in-github",
        "colab_type": "text"
      },
      "source": [
        "<a href=\"https://colab.research.google.com/github/yjbae227/KDT_Class_Python/blob/main/0819_%EC%97%B0%EC%8A%B5%EB%AC%B8%EC%A0%9C.ipynb\" target=\"_parent\"><img src=\"https://colab.research.google.com/assets/colab-badge.svg\" alt=\"Open In Colab\"/></a>"
      ]
    },
    {
      "cell_type": "code",
      "execution_count": null,
      "metadata": {
        "colab": {
          "base_uri": "https://localhost:8080/"
        },
        "id": "i_oZocICbQH0",
        "outputId": "d7b33f18-e34b-43a6-b2fa-256daf306941"
      },
      "outputs": [
        {
          "output_type": "stream",
          "name": "stdout",
          "text": [
            "10\n"
          ]
        }
      ],
      "source": [
        "# 문제 1 : 리스트의 합 구하기\n",
        "# 주어진 리스트의 모든 요소의 합을 구하는 함수를 작성하세요\n",
        "\n",
        "\n",
        "def sum_of_list(lst) :\n",
        "    result = 0;\n",
        "    for tmp in lst :\n",
        "        result = result + tmp\n",
        "    return result\n",
        "\n",
        "print(sum_of_list([1,2,3,4]))"
      ]
    },
    {
      "cell_type": "code",
      "source": [
        "# 문제2 : 리스트에서 최댓값과 최솟값 구하기\n",
        "# 리스트에서 최댓값과 최솟값을 구하는 함수를 작성하세요\n",
        "\n",
        "def max_and_min(lst) :\n",
        "    # lst.sort(lst)\n",
        "    # sorted(lst)\n",
        "    lst = list(sorted(lst))\n",
        "    return lst[-1], lst[0]\n",
        "\n",
        "print(max_and_min([10, 20, 4, 45, 99]))"
      ],
      "metadata": {
        "colab": {
          "base_uri": "https://localhost:8080/"
        },
        "id": "LKsNn1f9d_Bf",
        "outputId": "fbf5b655-d865-4cfa-cb95-77f4c1f564e1"
      },
      "execution_count": null,
      "outputs": [
        {
          "output_type": "stream",
          "name": "stdout",
          "text": [
            "(99, 4)\n"
          ]
        }
      ]
    },
    {
      "cell_type": "code",
      "source": [
        "# 문제 3: 리스트 뒤집기\n",
        "# 주어진 리스트를 역으로 뒤집는 함수를 작성하세요.\n",
        "# (직접 구현해 보세여, list.reverse() 사용하지 말 것)\n",
        "\n",
        "def reverse_list(lst) :\n",
        "    pass\n",
        "\n",
        "print(reverse_list([1, 2, 3, 4]))"
      ],
      "metadata": {
        "colab": {
          "base_uri": "https://localhost:8080/"
        },
        "id": "2hXXY-KEeqD2",
        "outputId": "a9228165-c654-48bd-efc5-d29dc56f7392"
      },
      "execution_count": null,
      "outputs": [
        {
          "output_type": "stream",
          "name": "stdout",
          "text": [
            "None\n"
          ]
        }
      ]
    },
    {
      "cell_type": "code",
      "source": [
        "# 문제 4 : 리스트 중복 제거\n",
        "# 리스트에서 중복된 요소를 제거하고, 중복이 제거된 리스트를 반환하는 함수를 작성하세요\n",
        "\n",
        "def remove_duplicates(lst) :\n",
        "    result = set(lst)\n",
        "    return result\n",
        "\n",
        "print(remove_duplicates([1,2,2,3,4,4,5]))"
      ],
      "metadata": {
        "colab": {
          "base_uri": "https://localhost:8080/"
        },
        "id": "juK3JbhhfwCF",
        "outputId": "ffd675bf-5a48-4575-92d1-b8d942d5e7bb"
      },
      "execution_count": null,
      "outputs": [
        {
          "output_type": "stream",
          "name": "stdout",
          "text": [
            "{1, 2, 3, 4, 5}\n"
          ]
        }
      ]
    },
    {
      "cell_type": "code",
      "source": [
        "# 문제 5 : 리스트 요소들의 곱 구하기\n",
        "# 리스트의 모든 요소의 곱을 구하는 함수를 작성하세요\n",
        "\n",
        "def multiply_list(lst) :\n",
        "    for tmp in lst :\n",
        "        if(tmp == 1) :\n",
        "            result = tmp\n",
        "        else :\n",
        "            result = result * tmp\n",
        "    print(result)\n",
        "    return result\n",
        "\n",
        "print(multiply_list([1,2,3,4]))"
      ],
      "metadata": {
        "colab": {
          "base_uri": "https://localhost:8080/"
        },
        "id": "jQBE_XsCgU7o",
        "outputId": "bfe98825-d1b1-4029-fe2d-5636eba35311"
      },
      "execution_count": null,
      "outputs": [
        {
          "output_type": "stream",
          "name": "stdout",
          "text": [
            "24\n",
            "24\n"
          ]
        }
      ]
    },
    {
      "cell_type": "code",
      "source": [
        "# 문제 6 : 리스트에서 짝수와 홀수 구분하기\n",
        "# 주어진 리스트에서 짝수와 홀수를 구분하여 별도의 리스트에 저장한 뒤 반환하는 함수를 작성하세요\n",
        "\n",
        "def separate_even_odd(lst) :\n",
        "    result1 = [tmp for tmp in lst if tmp % 2 == 0 ]\n",
        "    result2 = [tmp for tmp in lst if tmp % 2 != 0 ]\n",
        "\n",
        "    result_tuple = (result1, result2)\n",
        "    return result_tuple\n",
        "\n",
        "\n",
        "print(separate_even_odd([1,2,3,4,5,6,7,8,9]))"
      ],
      "metadata": {
        "colab": {
          "base_uri": "https://localhost:8080/"
        },
        "id": "sE7RNXWdh6YV",
        "outputId": "d9366cf4-8cf1-48e0-ed67-b5fad968cb55"
      },
      "execution_count": null,
      "outputs": [
        {
          "output_type": "stream",
          "name": "stdout",
          "text": [
            "([2, 4, 6, 8], [1, 3, 5, 7, 9])\n"
          ]
        }
      ]
    },
    {
      "cell_type": "code",
      "source": [
        "# 문제 7 : 리스트 요소들의 위치 교환\n",
        "# 리스트의 첫 번째 요소와 마지막 요소의 위치를 바꾸는 함수를 작성하세요\n",
        "\n",
        "def swap_first_last(lst) :\n",
        "    tmp = lst[0]\n",
        "    lst[0] = lst[-1]\n",
        "    lst[-1] = tmp\n",
        "\n",
        "    return lst\n",
        "\n",
        "print(swap_first_last([1,2,3,4,5]))"
      ],
      "metadata": {
        "colab": {
          "base_uri": "https://localhost:8080/"
        },
        "id": "pRRyY4n_ix-V",
        "outputId": "d431dc86-4899-499e-dbcd-10294e930fd1"
      },
      "execution_count": null,
      "outputs": [
        {
          "output_type": "stream",
          "name": "stdout",
          "text": [
            "[5, 2, 3, 4, 1]\n"
          ]
        }
      ]
    },
    {
      "cell_type": "code",
      "source": [
        "# 문제 8 : 리스트에서 특정 요소의 모든 인덱스 찾기\n",
        "# 리스트에서 특정 요소가 나타나는 모든 인덱스를 리스트로 반환하는 함수를 작성하세요\n",
        "\n",
        "def find_all_indices(lst, value) :\n",
        "    result_index=[]\n",
        "    for tmp in range(0, len(lst)) :\n",
        "        if(value == lst[tmp]) :\n",
        "            result_index.append(tmp)\n",
        "        else :\n",
        "            pass\n",
        "    return result_index\n",
        "\n",
        "print(find_all_indices([1, 2, 3, 2, 4, 2, 5], 2))"
      ],
      "metadata": {
        "colab": {
          "base_uri": "https://localhost:8080/"
        },
        "id": "4Apz5MFXjjPn",
        "outputId": "a26eb486-b232-4dc0-c176-93cf054949ce"
      },
      "execution_count": null,
      "outputs": [
        {
          "output_type": "stream",
          "name": "stdout",
          "text": [
            "[1, 3, 5]\n"
          ]
        }
      ]
    },
    {
      "cell_type": "code",
      "source": [
        "# 문제 9 : 리스트의 중간 요소 찾기\n",
        "# 리스트의 중간에 있는 요소를 반환하는 함수를 작성하세요.\n",
        "# 리스트의 길이가 짝수일 경우 두 개의 중간 요소를 반환하세요.\n",
        "\n",
        "def find_middle(lst) :\n",
        "    result = []\n",
        "    a, b = divmod(len(lst), 2)\n",
        "\n",
        "    if(b == 0) :\n",
        "        result.append(lst[int(a-1)])\n",
        "        result.append(lst[a])\n",
        "\n",
        "    else :\n",
        "        result.append(lst[a])\n",
        "\n",
        "\n",
        "    return result\n",
        "\n",
        "print(find_middle([1,2,3,4,5]))\n",
        "print(find_middle([1,2,3,4]))\n",
        "\n",
        "\n"
      ],
      "metadata": {
        "colab": {
          "base_uri": "https://localhost:8080/"
        },
        "id": "oc7Urykc8by6",
        "outputId": "5003cf60-e1fb-48e8-ad62-f21f800c64f2"
      },
      "execution_count": null,
      "outputs": [
        {
          "output_type": "stream",
          "name": "stdout",
          "text": [
            "[3]\n",
            "[2, 3]\n"
          ]
        }
      ]
    },
    {
      "cell_type": "code",
      "source": [
        "from os import POSIX_FADV_DONTNEED\n",
        "# 문제 10 : 중첩 리스트 펼치기(Flattening)\n",
        "# 중첩된 리스트를 평평하게 만들어 단일 리스트로 반환하는 함수를 작성하세요\n",
        "\n",
        "def flatten (lst) :\n",
        "\n",
        "\n",
        "    return\n",
        "\n",
        "print(flatten([1,[2, 3], [4, [5, 6]], 7]))"
      ],
      "metadata": {
        "colab": {
          "base_uri": "https://localhost:8080/"
        },
        "id": "Z8POXrppJbKg",
        "outputId": "95dec209-d431-4bc9-9244-18756d594a49"
      },
      "execution_count": null,
      "outputs": [
        {
          "output_type": "stream",
          "name": "stdout",
          "text": [
            "None\n"
          ]
        }
      ]
    },
    {
      "cell_type": "code",
      "source": [
        "# 문제 1 : 딕셔너리에서 값의 합 구하기\n",
        "# 주어진 딕셔너리에서 모든 값의 합을 구하는 함수를 작성하세요.\n",
        "# (딕셔너리의 값은 모두 숫자라고 가정합니다.)\n",
        "\n",
        "def sum_of_dict_values(d) :\n",
        "    return sum(d.values())\n",
        "\n",
        "print(sum_of_dict_values({'a':100, 'b':200, 'c':300}))"
      ],
      "metadata": {
        "colab": {
          "base_uri": "https://localhost:8080/"
        },
        "id": "Mdk0KJu3Ooo_",
        "outputId": "034bfe75-6854-47db-859a-cfe9125762d4"
      },
      "execution_count": null,
      "outputs": [
        {
          "output_type": "stream",
          "name": "stdout",
          "text": [
            "600\n"
          ]
        }
      ]
    },
    {
      "cell_type": "code",
      "source": [
        "# 문제 2 : 딕셔너리에서 특정 값 찾기\n",
        "# 딕셔너리에서 특정 값을 가지는 첫 번째 키를 반환하는 함수를 작성하세요.\n",
        "# 값이 없는 경우 None을 반환 합니다.\n",
        "\n",
        "def find_key_by_value(d, value) :"
      ],
      "metadata": {
        "id": "JpzcIZ7Kg1Ds"
      },
      "execution_count": null,
      "outputs": []
    }
  ]
}