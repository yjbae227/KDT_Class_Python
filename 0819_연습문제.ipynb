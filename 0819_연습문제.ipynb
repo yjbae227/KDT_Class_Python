{
  "nbformat": 4,
  "nbformat_minor": 0,
  "metadata": {
    "colab": {
      "provenance": [],
      "authorship_tag": "ABX9TyOUOO0F4keJ+OgdPNS1sSzR",
      "include_colab_link": true
    },
    "kernelspec": {
      "name": "python3",
      "display_name": "Python 3"
    },
    "language_info": {
      "name": "python"
    }
  },
  "cells": [
    {
      "cell_type": "markdown",
      "metadata": {
        "id": "view-in-github",
        "colab_type": "text"
      },
      "source": [
        "<a href=\"https://colab.research.google.com/github/yjbae227/KDT_Class_Python/blob/main/0819_%EC%97%B0%EC%8A%B5%EB%AC%B8%EC%A0%9C.ipynb\" target=\"_parent\"><img src=\"https://colab.research.google.com/assets/colab-badge.svg\" alt=\"Open In Colab\"/></a>"
      ]
    },
    {
      "cell_type": "code",
      "execution_count": 26,
      "metadata": {
        "colab": {
          "base_uri": "https://localhost:8080/"
        },
        "id": "i_oZocICbQH0",
        "outputId": "5f8a65ce-4de3-405e-a45e-d3c042b78d5f"
      },
      "outputs": [
        {
          "output_type": "stream",
          "name": "stdout",
          "text": [
            "10\n"
          ]
        }
      ],
      "source": [
        "# 문제 1 : 리스트의 합 구하기\n",
        "# 주어진 리스트의 모든 요소의 합을 구하는 함수를 작성하세요\n",
        "\n",
        "def sum_of_list(lst) :\n",
        "    result = 0;\n",
        "    for tmp in lst :\n",
        "        result = result + tmp\n",
        "    return result\n",
        "\n",
        "print(sum_of_list([1,2,3,4]))"
      ]
    },
    {
      "cell_type": "code",
      "source": [
        "# 문제2 : 리스트에서 최댓값과 최솟값 구하기\n",
        "# 리스트에서 최댓값과 최솟값을 구하는 함수를 작성하세요\n",
        "\n",
        "def max_and_min(lst) :\n",
        "    # lst.sort(lst)\n",
        "    # sorted(lst)\n",
        "    lst = list(sorted(lst))\n",
        "    return lst[-1], lst[0]\n",
        "\n",
        "print(max_and_min([10, 20, 4, 45, 99]))"
      ],
      "metadata": {
        "colab": {
          "base_uri": "https://localhost:8080/"
        },
        "id": "LKsNn1f9d_Bf",
        "outputId": "5c1ab6df-bb78-44d8-bf79-8d77464134b9"
      },
      "execution_count": 27,
      "outputs": [
        {
          "output_type": "stream",
          "name": "stdout",
          "text": [
            "(99, 4)\n"
          ]
        }
      ]
    },
    {
      "cell_type": "code",
      "source": [
        "# 문제 3: 리스트 뒤집기\n",
        "# 주어진 리스트를 역으로 뒤집는 함수를 작성하세요.\n",
        "# (직접 구현해 보세여, list.reverse() 사용하지 말 것)\n",
        "# 구글링\n",
        "\n",
        "def reverse_list(lst) :\n",
        "    # 0, 1, 2, 3,\n",
        "    # 0 3 / 1 2\n",
        "    result = [lst for lst in lst[::-1]]\n",
        "    return result\n",
        "\n",
        "print(reverse_list([1, 2, 3, 4]))"
      ],
      "metadata": {
        "colab": {
          "base_uri": "https://localhost:8080/"
        },
        "id": "2hXXY-KEeqD2",
        "outputId": "50115920-b786-401a-a51a-608189134abf"
      },
      "execution_count": 28,
      "outputs": [
        {
          "output_type": "stream",
          "name": "stdout",
          "text": [
            "[4, 3, 2, 1]\n"
          ]
        }
      ]
    },
    {
      "cell_type": "code",
      "source": [
        "# 문제 4 : 리스트 중복 제거\n",
        "# 리스트에서 중복된 요소를 제거하고, 중복이 제거된 리스트를 반환하는 함수를 작성하세요\n",
        "\n",
        "def remove_duplicates(lst) :\n",
        "    result = set(lst)\n",
        "    return result\n",
        "\n",
        "print(remove_duplicates([1,2,2,3,4,4,5]))"
      ],
      "metadata": {
        "colab": {
          "base_uri": "https://localhost:8080/"
        },
        "id": "juK3JbhhfwCF",
        "outputId": "2f05cba9-913d-4afe-d229-86e221b45eaf"
      },
      "execution_count": 29,
      "outputs": [
        {
          "output_type": "stream",
          "name": "stdout",
          "text": [
            "{1, 2, 3, 4, 5}\n"
          ]
        }
      ]
    },
    {
      "cell_type": "code",
      "source": [
        "# 문제 5 : 리스트 요소들의 곱 구하기\n",
        "# 리스트의 모든 요소의 곱을 구하는 함수를 작성하세요\n",
        "\n",
        "def multiply_list(lst) :\n",
        "    result = []\n",
        "    for tmp in lst :\n",
        "        if(tmp == 1) :\n",
        "            result = tmp\n",
        "        else :\n",
        "            result = result * tmp\n",
        "    return result\n",
        "\n",
        "print(multiply_list([1,2,3,4]))"
      ],
      "metadata": {
        "colab": {
          "base_uri": "https://localhost:8080/"
        },
        "id": "jQBE_XsCgU7o",
        "outputId": "62d1e302-f716-4430-ff06-15c54df0088b"
      },
      "execution_count": 30,
      "outputs": [
        {
          "output_type": "stream",
          "name": "stdout",
          "text": [
            "24\n"
          ]
        }
      ]
    },
    {
      "cell_type": "code",
      "source": [
        "# 문제 6 : 리스트에서 짝수와 홀수 구분하기\n",
        "# 주어진 리스트에서 짝수와 홀수를 구분하여 별도의 리스트에 저장한 뒤 반환하는 함수를 작성하세요\n",
        "\n",
        "def separate_even_odd(lst) :\n",
        "    result1 = [tmp for tmp in lst if tmp % 2 == 0 ]\n",
        "    result2 = [tmp for tmp in lst if tmp % 2 != 0 ]\n",
        "\n",
        "    result_tuple = (result1, result2)\n",
        "    return result_tuple\n",
        "\n",
        "print(separate_even_odd([1,2,3,4,5,6,7,8,9]))"
      ],
      "metadata": {
        "colab": {
          "base_uri": "https://localhost:8080/"
        },
        "id": "sE7RNXWdh6YV",
        "outputId": "91c27d89-48b8-436e-dddb-76c2c137c308"
      },
      "execution_count": 31,
      "outputs": [
        {
          "output_type": "stream",
          "name": "stdout",
          "text": [
            "([2, 4, 6, 8], [1, 3, 5, 7, 9])\n"
          ]
        }
      ]
    },
    {
      "cell_type": "code",
      "source": [
        "# 문제 7 : 리스트 요소들의 위치 교환\n",
        "# 리스트의 첫 번째 요소와 마지막 요소의 위치를 바꾸는 함수를 작성하세요\n",
        "\n",
        "def swap_first_last(lst) :\n",
        "    tmp = lst[0]\n",
        "    lst[0] = lst[-1]\n",
        "    lst[-1] = tmp\n",
        "\n",
        "    return lst\n",
        "\n",
        "print(swap_first_last([1,2,3,4,5]))"
      ],
      "metadata": {
        "colab": {
          "base_uri": "https://localhost:8080/"
        },
        "id": "pRRyY4n_ix-V",
        "outputId": "8c0f2017-b049-402c-bd71-2be0e236c92b"
      },
      "execution_count": 32,
      "outputs": [
        {
          "output_type": "stream",
          "name": "stdout",
          "text": [
            "[5, 2, 3, 4, 1]\n"
          ]
        }
      ]
    },
    {
      "cell_type": "code",
      "source": [
        "# 문제 8 : 리스트에서 특정 요소의 모든 인덱스 찾기\n",
        "# 리스트에서 특정 요소가 나타나는 모든 인덱스를 리스트로 반환하는 함수를 작성하세요\n",
        "\n",
        "def find_all_indices(lst, value) :\n",
        "    result_index=[]\n",
        "    for tmp in range(0, len(lst)) :\n",
        "        if(value == lst[tmp]) :\n",
        "            result_index.append(tmp)\n",
        "    return result_index\n",
        "\n",
        "print(find_all_indices([1, 2, 3, 2, 4, 2, 5], 2))"
      ],
      "metadata": {
        "colab": {
          "base_uri": "https://localhost:8080/"
        },
        "id": "4Apz5MFXjjPn",
        "outputId": "cd97709c-c9e2-4a13-f4c7-778c3e176f46"
      },
      "execution_count": 33,
      "outputs": [
        {
          "output_type": "stream",
          "name": "stdout",
          "text": [
            "[1, 3, 5]\n"
          ]
        }
      ]
    },
    {
      "cell_type": "code",
      "source": [
        "# 문제 9 : 리스트의 중간 요소 찾기\n",
        "# 리스트의 중간에 있는 요소를 반환하는 함수를 작성하세요.\n",
        "# 리스트의 길이가 짝수일 경우 두 개의 중간 요소를 반환하세요.\n",
        "\n",
        "def find_middle(lst) :\n",
        "    result = []\n",
        "    a, b = divmod(len(lst), 2)\n",
        "\n",
        "    if(b == 0) :\n",
        "        result.append(lst[int(a-1)])\n",
        "        result.append(lst[a])\n",
        "\n",
        "    else :\n",
        "        result.append(lst[a])\n",
        "\n",
        "\n",
        "    return result\n",
        "\n",
        "print(find_middle([1,2,3,4,5]))\n",
        "print(find_middle([1,2,3,4]))\n",
        "\n",
        "\n"
      ],
      "metadata": {
        "colab": {
          "base_uri": "https://localhost:8080/"
        },
        "id": "oc7Urykc8by6",
        "outputId": "f38dff4a-2e7d-4d0b-a8da-ab9756a8eee8"
      },
      "execution_count": 34,
      "outputs": [
        {
          "output_type": "stream",
          "name": "stdout",
          "text": [
            "[3]\n",
            "[2, 3]\n"
          ]
        }
      ]
    },
    {
      "cell_type": "code",
      "source": [
        "from os import POSIX_FADV_DONTNEED\n",
        "# 문제 10 : 중첩 리스트 펼치기(Flattening)\n",
        "# 중첩된 리스트를 평평하게 만들어 단일 리스트로 반환하는 함수를 작성하세요\n",
        "# 구글링\n",
        "\n",
        "def flatten (lst) :\n",
        "    result = []\n",
        "    for tmp in lst :\n",
        "        if type(tmp) == list :\n",
        "            result += flatten(tmp)\n",
        "        else :\n",
        "            result += [tmp]\n",
        "    return result\n",
        "\n",
        "print(flatten([1,[2, 3], [4, [5, 6]], 7]))"
      ],
      "metadata": {
        "colab": {
          "base_uri": "https://localhost:8080/"
        },
        "id": "Z8POXrppJbKg",
        "outputId": "1ab072a9-1047-4fe6-859b-36ec17599b9d"
      },
      "execution_count": 35,
      "outputs": [
        {
          "output_type": "stream",
          "name": "stdout",
          "text": [
            "[1, 2, 3, 4, 5, 6, 7]\n"
          ]
        }
      ]
    },
    {
      "cell_type": "code",
      "source": [
        "# 문제 1 : 딕셔너리에서 값의 합 구하기\n",
        "# 주어진 딕셔너리에서 모든 값의 합을 구하는 함수를 작성하세요.\n",
        "# (딕셔너리의 값은 모두 숫자라고 가정합니다.)\n",
        "\n",
        "def sum_of_dict_values(d) :\n",
        "    return sum(d.values())\n",
        "\n",
        "print(sum_of_dict_values({'a':100, 'b':200, 'c':300}))"
      ],
      "metadata": {
        "colab": {
          "base_uri": "https://localhost:8080/"
        },
        "id": "Mdk0KJu3Ooo_",
        "outputId": "1071a8ec-4db0-4c02-9c1c-b6d904d1fdb8"
      },
      "execution_count": 36,
      "outputs": [
        {
          "output_type": "stream",
          "name": "stdout",
          "text": [
            "600\n"
          ]
        }
      ]
    },
    {
      "cell_type": "code",
      "source": [
        "# 문제 2 : 딕셔너리에서 특정 값 찾기\n",
        "# 딕셔너리에서 특정 값을 가지는 첫 번째 키를 반환하는 함수를 작성하세요.\n",
        "# 값이 없는 경우 None을 반환 합니다.\n",
        "\n",
        "def find_key_by_value(d, value) :\n",
        "    for d_key, d_value in d.items() :\n",
        "        if value == d_value :\n",
        "            return d_key\n",
        "\n",
        "\n",
        "print(find_key_by_value({'a':100, 'b':200, 'c':300}, 200))\n",
        "print(find_key_by_value({'a':100, 'b':200, 'c':300}, 400))"
      ],
      "metadata": {
        "id": "JpzcIZ7Kg1Ds",
        "colab": {
          "base_uri": "https://localhost:8080/"
        },
        "outputId": "d390f7ce-00cc-4efb-e796-11737ee35e5a"
      },
      "execution_count": 37,
      "outputs": [
        {
          "output_type": "stream",
          "name": "stdout",
          "text": [
            "b\n",
            "None\n"
          ]
        }
      ]
    },
    {
      "cell_type": "code",
      "source": [
        "# 문제 3 : 키 값 뒤집기\n",
        "# 주어진 딕셔너리에서 키와 값을 뒤집어 새로운 딕셔너리를 반환하는\n",
        "# 함수를 작성하세요. (값은 고유하다고 가정합니다.)\n",
        "\n",
        "def invert_dict(d) :\n",
        "\n",
        "    result = {d_value:d_key for d_key, d_value in d.items()}\n",
        "    return result\n",
        "\n",
        "print(invert_dict({'a':1, 'b': 2, 'c': 3}))"
      ],
      "metadata": {
        "colab": {
          "base_uri": "https://localhost:8080/"
        },
        "id": "GzoYLNmiuAqD",
        "outputId": "cf82a858-9069-4f75-e594-1e55159e7424"
      },
      "execution_count": 107,
      "outputs": [
        {
          "output_type": "stream",
          "name": "stdout",
          "text": [
            "{1: 'a', 2: 'b', 3: 'c'}\n"
          ]
        }
      ]
    },
    {
      "cell_type": "code",
      "source": [
        "# 문제 4 : 두 딕셔너리 합치기\n",
        "# 두 개의 딕셔너리를 합쳐서 새로운 디셔너리를 반환하는 함수를 작성하세요.\n",
        "# 만약 동일한 키가 존재한다면 두 값의 합을 사용하세요.\n",
        "\n",
        "def merge_dicts(d1, d2) :\n",
        "    result = {key : value for key, value in d1.items()}\n",
        "    for key in d2.keys() :\n",
        "        if key not in result.keys() :\n",
        "            result[key] = d2[key]\n",
        "        else :\n",
        "            result[key] = result[key] + d2[key]\n",
        "    return result\n",
        "\n",
        "print(merge_dicts({'a':100, 'b':200}, {'b':300, 'c':400}))"
      ],
      "metadata": {
        "colab": {
          "base_uri": "https://localhost:8080/"
        },
        "id": "5SI1UpFa6_ZR",
        "outputId": "9329155c-db75-4ee5-fd7e-8c0a8904e326"
      },
      "execution_count": 39,
      "outputs": [
        {
          "output_type": "stream",
          "name": "stdout",
          "text": [
            "{'a': 100, 'b': 500, 'c': 400}\n"
          ]
        }
      ]
    },
    {
      "cell_type": "code",
      "source": [
        "# 문제 5 : 딕셔너리 정렬하기\n",
        "# 주어진 딕셔너리를 값에 따라 오름차순으로 정렬된 딕셔너리를 반환하는 함수를 작성하세요\n",
        "# 구글링으로 해결\n",
        "\n",
        "def sort_dict_by_value(d) :\n",
        "\n",
        "    # 1. key, value 뒤집고\n",
        "    # 2. list 오름차순 정렬\n",
        "    # 3. 다시 key, value 뒤집기\n",
        "\n",
        "    result_l = {value:key for key, value in d.items()}\n",
        "    result_l = result_l.items()\n",
        "\n",
        "    result = sorted(list(result_l))\n",
        "    result = dict(result)\n",
        "    result = {value : key for key, value in result.items()}\n",
        "\n",
        "    # result = sorted(d.items(), key = lambda item:item[1])\n",
        "    return result\n",
        "\n",
        "print(sort_dict_by_value({'a':3, 'b':1, 'c':2}))"
      ],
      "metadata": {
        "colab": {
          "base_uri": "https://localhost:8080/"
        },
        "id": "0t1hZJpM8cqZ",
        "outputId": "77cdba2d-28eb-4936-9c3b-843b79fd3561"
      },
      "execution_count": 102,
      "outputs": [
        {
          "output_type": "stream",
          "name": "stdout",
          "text": [
            "{'b': 1, 'c': 2, 'a': 3}\n"
          ]
        }
      ]
    },
    {
      "cell_type": "code",
      "source": [
        "# 문제 6 : 중첩 딕셔너리에서 값 가져오기\n",
        "# 중첩된 딕셔너리에서 특정 키의 값을 가져오는 함수를 작성하세요.\n",
        "# 키가 없으면 None을 반환합니다.\n",
        "\n",
        "def get_nested_value(d, keys):\n",
        "    result = d\n",
        "    for key in keys :\n",
        "        if key not in result:\n",
        "            return\n",
        "        result = result[key]\n",
        "    return result\n",
        "\n",
        "nested_dict = {'a' : {'b' : {'c' : 100}}}\n",
        "print(get_nested_value(nested_dict, ['a', 'b', 'c']))\n",
        "print(get_nested_value(nested_dict, ['a', 'b', 'x']))"
      ],
      "metadata": {
        "colab": {
          "base_uri": "https://localhost:8080/"
        },
        "id": "vMB7mO4bEzcI",
        "outputId": "1d8f60c7-aff0-4ed3-ca7a-68b92e4a3496"
      },
      "execution_count": 162,
      "outputs": [
        {
          "output_type": "stream",
          "name": "stdout",
          "text": [
            "100\n",
            "None\n"
          ]
        }
      ]
    },
    {
      "cell_type": "code",
      "source": [
        "# 문제 7 : 키와 값 스왑하기\n",
        "# 딕셔너리에서 키와 값을 스왑하고, 동일한 값을 가진 키들이 있을 경우\n",
        "# 리스트로 묶는 함수를 작성하세요.\n",
        "\n",
        "def swap_keys_values(d) :\n",
        "\n",
        "    # 1. k / v를 바꾸면서 동일k 비교하기\n",
        "    # 2. key값이 존재하면 value를 list로 묶기\n",
        "\n",
        "    # 중복값이 존재한 상태로  k / v 가 스왑될 것이다\n",
        "    # --> 중복 값이 삭제된 상태로 스왑\n",
        "    # 원상태의 v와 reslut.key를 비교해서 리스트 처리\n",
        "\n",
        "    # 바꿀 때 하나씩 비교를 하면서 바꿔야 하는 거지\n",
        "\n",
        "\n",
        "    result = {}\n",
        "    for key, value in d.items() :\n",
        "        if value not in result.keys() :\n",
        "            result[value] = key\n",
        "        else :\n",
        "            result[value] = [result[value], key]\n",
        "    return result\n",
        "\n",
        "print(swap_keys_values({'a':1, 'b':2, 'c':1}))"
      ],
      "metadata": {
        "colab": {
          "base_uri": "https://localhost:8080/"
        },
        "id": "TT09mrN1KhDg",
        "outputId": "eafe938c-f27a-4db5-8160-1c9d08ba878f"
      },
      "execution_count": 135,
      "outputs": [
        {
          "output_type": "stream",
          "name": "stdout",
          "text": [
            "{1: ['a', 'c'], 2: 'b'}\n"
          ]
        }
      ]
    },
    {
      "cell_type": "code",
      "source": [
        "# 문제 8 : 딕셔너리 필터링\n",
        "# 주어진 딕셔너리에서 특정 값을 가지는 키-값 쌍만 남겨 새로운 딕셔너리를\n",
        "# 반환하는 함수를 작성하세요\n",
        "\n",
        "def filter_dict_by_value(d, value) :\n",
        "    result = {d_key : d_value for d_key, d_value in d.items() if value == d_value}\n",
        "    return result\n",
        "\n",
        "print(filter_dict_by_value({'a':100, 'b':200, 'c':100}, 100))\n"
      ],
      "metadata": {
        "colab": {
          "base_uri": "https://localhost:8080/"
        },
        "id": "3SnxSLOdYZ2f",
        "outputId": "eea3b490-b9ad-42f7-9d91-8bfdaded0b68"
      },
      "execution_count": null,
      "outputs": [
        {
          "output_type": "stream",
          "name": "stdout",
          "text": [
            "{'a': 100, 'c': 100}\n"
          ]
        }
      ]
    },
    {
      "cell_type": "code",
      "source": [
        "# 문제 9 : 두 딕셔너리의 공통 키 찾기\n",
        "# 두 딕셔너리에서 공통된 key와 value를  가진 모든 키-값 쌍을 반환하는 함수를 작성하세요.\n",
        "\n",
        "def common_keys(d1, d2) :\n",
        "    result = {}\n",
        "    for key, values in d1.items() :\n",
        "        if key in d2.keys() and d1[key] == d2[key] :\n",
        "            print(key, values)\n",
        "            result[key] = values\n",
        "    return result\n",
        "\n",
        "print(common_keys({'a': 100, 'b': 200, 'c': 300}, {'b': 200, 'c': 400, 'd': 500}))\n"
      ],
      "metadata": {
        "colab": {
          "base_uri": "https://localhost:8080/"
        },
        "id": "ISDZly_rboze",
        "outputId": "944ad7fe-740a-4865-f1b9-829c086bef7c"
      },
      "execution_count": null,
      "outputs": [
        {
          "output_type": "stream",
          "name": "stdout",
          "text": [
            "b 200\n",
            "{'b': 200}\n"
          ]
        }
      ]
    },
    {
      "cell_type": "code",
      "source": [
        "# 문제 10 : 리스트의 딕셔너리로 변환\n",
        "# 두 개의 리스트를 받아서 하나는 키, 다른 하나는 값으로 사용하여 딕셔너리를\n",
        "# 생성하는 함수를 작성하세요.\n",
        "# 리스트의 길이가 다르면 더 짧은 길이에 맞춰서 딕셔너리를 만드세요.\n",
        "\n",
        "def lists_to_dict(keys, values) :\n",
        "    result = {}\n",
        "    len_min = keys if len(keys) > len(values) else values\n",
        "\n",
        "    for tmp in range(0, len(len_min)) :\n",
        "        result_key = keys[tmp]\n",
        "        result_value = values[tmp]\n",
        "\n",
        "        result[result_key] = result_value\n",
        "    return result\n",
        "\n",
        "keys = ['a', 'b', 'c']\n",
        "values = [1, 2, 3]\n",
        "print(lists_to_dict(keys, values))"
      ],
      "metadata": {
        "colab": {
          "base_uri": "https://localhost:8080/"
        },
        "id": "4Ow7uHAVfvrm",
        "outputId": "2ad559a2-4512-41c3-c827-3b6b858c4da2"
      },
      "execution_count": null,
      "outputs": [
        {
          "output_type": "stream",
          "name": "stdout",
          "text": [
            "{'a': 1, 'b': 2, 'c': 3}\n"
          ]
        }
      ]
    },
    {
      "cell_type": "code",
      "source": [
        "# 문제 1 : 숫자 뒤집기\n",
        "# 주어진 정수의 자리수를 반대로 뒤집는 함수를 작성하세요.\n",
        "# (음수도 처리해야 합니다.)\n",
        "# 구글링\n",
        "\n",
        "def reverse_integer(n) :\n",
        "    k = str(n)\n",
        "\n",
        "    for i in range(len(k)):\n",
        "        if k[0] == '-':\n",
        "            r_num = '-' + k[-1:0:-1]\n",
        "        else :\n",
        "            r_num = k[::-1]\n",
        "      return int(r_num)\n",
        "\n",
        "print(reverse_integer(12345))\n",
        "print(reverse_integer(-12345))"
      ],
      "metadata": {
        "colab": {
          "base_uri": "https://localhost:8080/"
        },
        "id": "qNjW7AZAh8_V",
        "outputId": "cf4f1e91-25e3-4d4c-ed41-636d336b8d22"
      },
      "execution_count": 153,
      "outputs": [
        {
          "output_type": "stream",
          "name": "stdout",
          "text": [
            "54321\n",
            "-54321\n"
          ]
        }
      ]
    },
    {
      "cell_type": "code",
      "source": [
        "# 문제 2 : 문자열 문자 수 세기\n",
        "# 주어진 문자열에서 각 문자의 발생 횟수를 세고, 이를 딕셔너리 형태로 반환하는\n",
        "# 함수를 작성하세요.\n",
        "\n",
        "def count_characters(s):\n",
        "    result={}\n",
        "    for tmp in range(0, len(s)) :\n",
        "\n",
        "        if s[tmp] in result.keys() :\n",
        "            result[s[tmp]] = int(result[s[tmp]]) + 1\n",
        "        else :\n",
        "            result[s[tmp]] = 1\n",
        "    return result\n",
        "\n",
        "print(count_characters(\"hello\"))"
      ],
      "metadata": {
        "colab": {
          "base_uri": "https://localhost:8080/"
        },
        "id": "4yTo_juekkEN",
        "outputId": "b5eb98b6-a3ad-45cd-9d79-90c55bb19604"
      },
      "execution_count": null,
      "outputs": [
        {
          "output_type": "stream",
          "name": "stdout",
          "text": [
            "{'h': 1, 'e': 1, 'l': 2, 'o': 1}\n"
          ]
        }
      ]
    },
    {
      "cell_type": "code",
      "source": [
        "# 문제 3 : 튜플과 리스트 변환\n",
        "# 튜플을 리스트로, 리스트를 튜플로 변환하는 함수를 작성하세요.\n",
        "\n",
        "def convert_tuple_list(data) :\n",
        "\n",
        "    result = tuple(data) if type(data) == list else list(data)\n",
        "    return result\n",
        "\n",
        "print(convert_tuple_list((1, 2, 3)))\n",
        "print(convert_tuple_list([1, 2, 3]))"
      ],
      "metadata": {
        "colab": {
          "base_uri": "https://localhost:8080/"
        },
        "id": "vSKMqLfdq1W1",
        "outputId": "1f218d18-066f-482c-9480-564e94ea4ed5"
      },
      "execution_count": null,
      "outputs": [
        {
          "output_type": "stream",
          "name": "stdout",
          "text": [
            "[1, 2, 3]\n",
            "(1, 2, 3)\n"
          ]
        }
      ]
    },
    {
      "cell_type": "code",
      "source": [
        "# 문제 4 : 집합, 교집합, 합집합, 차집합\n",
        "# 두 개의 리스트를 받아서 각각 교집합, 합집합, 차집합을 구하는 함수를 작성하세요.\n",
        "\n",
        "def set_operations(list1, list2) :\n",
        "    list1 = set(list1)\n",
        "    list2 = set(list2)\n",
        "\n",
        "    result = (list1.intersection(list2), list1.union(list2), list1.difference(list2))\n",
        "    return result\n",
        "\n",
        "print(set_operations([1, 2, 3], [3, 4, 5]))\n"
      ],
      "metadata": {
        "colab": {
          "base_uri": "https://localhost:8080/"
        },
        "id": "pE1-TifRrP7t",
        "outputId": "fb617bcd-5f91-49a0-a9aa-603900278204"
      },
      "execution_count": null,
      "outputs": [
        {
          "output_type": "stream",
          "name": "stdout",
          "text": [
            "({3}, {1, 2, 3, 4, 5}, {1, 2})\n"
          ]
        }
      ]
    },
    {
      "cell_type": "code",
      "source": [
        "# 문제 5 : 리스트 중간 요소 찾기\n",
        "# 주어진 리스트의 중간 요소를 반환하는 함수를 작성하세요.\n",
        "# 만약 리스트의 길이가 짝수이면, 두 개의 중간요소를 반환하세요.\n",
        "\n",
        "def find_middle_element(lst) :\n",
        "    result = []\n",
        "    a, b = divmod(len(lst), 2)\n",
        "\n",
        "    if(b == 0) :\n",
        "        result.append(lst[int(a-1)])\n",
        "        result.append(lst[a])\n",
        "\n",
        "    else :\n",
        "        result.append(lst[a])\n",
        "\n",
        "\n",
        "    return result\n",
        "\n",
        "print(find_middle_element([1,2,3,4,5]))\n",
        "print(find_middle_element([1,2,3,4]))"
      ],
      "metadata": {
        "colab": {
          "base_uri": "https://localhost:8080/"
        },
        "id": "c8krvcsatqqM",
        "outputId": "8fb095e9-376d-434d-f07e-50d1c0faaa65"
      },
      "execution_count": null,
      "outputs": [
        {
          "output_type": "stream",
          "name": "stdout",
          "text": [
            "[3]\n",
            "[2, 3]\n"
          ]
        }
      ]
    },
    {
      "cell_type": "code",
      "source": [
        "# 문제 6 : 키-값 쌍 리스트 변환\n",
        "# 딕셔너리에서 키와 값을 각각 리스트로 변환하는 함수를 작성하세요\n",
        "\n",
        "def dict_to_lists(d):\n",
        "    result_k = list(d.keys())\n",
        "    result_v = list(d.values())\n",
        "    result = (d.keys(), d.values())\n",
        "    return result_k,result_v\n",
        "\n",
        "print(dict_to_lists({'a': 1, 'b': 2, 'c': 3}))"
      ],
      "metadata": {
        "colab": {
          "base_uri": "https://localhost:8080/"
        },
        "id": "fBMgLD0yuLnd",
        "outputId": "4ca5d615-7b64-4455-8488-a30784892be1"
      },
      "execution_count": null,
      "outputs": [
        {
          "output_type": "stream",
          "name": "stdout",
          "text": [
            "(['a', 'b', 'c'], [1, 2, 3])\n"
          ]
        }
      ]
    },
    {
      "cell_type": "code",
      "source": [
        "# 문제 7 : 문자열에서 단어의 역순 출력\n",
        "# 주어진 문자열에서 단어의 순서를 뒤집어 출력하는 함수를 작성하세요.\n",
        "\n",
        "def reverse_words(s):\n",
        "    first_str = ''\n",
        "    last_str = ''\n",
        "    space_str = 0\n",
        "\n",
        "    for tmp in s:\n",
        "        space_str += 1\n",
        "        if tmp == ' ':\n",
        "            first_str = s[0:space_str - 1]\n",
        "            last_str = s[space_str:]\n",
        "\n",
        "    return last_str + ' ' + first_str\n",
        "print(reverse_words(\"Hello World\"))"
      ],
      "metadata": {
        "colab": {
          "base_uri": "https://localhost:8080/"
        },
        "id": "yNHdqX8Cuxgs",
        "outputId": "5191dde0-ef5f-48a6-a0f3-667899e5f36a"
      },
      "execution_count": null,
      "outputs": [
        {
          "output_type": "stream",
          "name": "stdout",
          "text": [
            "World Hello\n"
          ]
        }
      ]
    },
    {
      "cell_type": "code",
      "source": [
        "# 문제 8 : 중복 요소 제거\n",
        "# 주어진 리스트에서 중복된 요소를 제거한 리스트를 반환하는 함수를 작성하세요.\n",
        "\n",
        "def remove_duplicates(lst):\n",
        "    result_s = set(lst)\n",
        "    result = list(result_s)\n",
        "\n",
        "    return result\n",
        "\n",
        "print(remove_duplicates([1, 2, 2, 3, 4, 4, 5]))"
      ],
      "metadata": {
        "colab": {
          "base_uri": "https://localhost:8080/"
        },
        "id": "tW0fz633vl08",
        "outputId": "0a877cde-5c3f-4301-c2c9-a730349efa44"
      },
      "execution_count": null,
      "outputs": [
        {
          "output_type": "stream",
          "name": "stdout",
          "text": [
            "[1, 2, 3, 4, 5]\n"
          ]
        }
      ]
    },
    {
      "cell_type": "code",
      "source": [
        "# 문제 9 : 모든 요소 곱하기\n",
        "# 리스트 안의 모든 요소를 곱한 값을 반환하는 함수를 작성하세요\n",
        "\n",
        "def multiply_elements(lst):\n",
        "    result = 1\n",
        "    for tmp in lst :\n",
        "        result = result * tmp\n",
        "    return result\n",
        "\n",
        "print(multiply_elements([1, 2, 3, 4]))  # 출력: 24"
      ],
      "metadata": {
        "colab": {
          "base_uri": "https://localhost:8080/"
        },
        "id": "m_7xsxWXxLd0",
        "outputId": "9106ad91-1f6d-473c-907e-7899bd77a1fa"
      },
      "execution_count": null,
      "outputs": [
        {
          "output_type": "stream",
          "name": "stdout",
          "text": [
            "24\n"
          ]
        }
      ]
    },
    {
      "cell_type": "code",
      "source": [
        "# 문제 10 : 짝수 인덱스 요소 추출\n",
        "# 주어진 리스트에서 짝수 인덱스에 위치한 요소들만 추출하여\n",
        "# 새로운 리스트를 반환하는 함수를 작성하세요.\n",
        "def even_index_elements(lst):\n",
        "    result = []\n",
        "    for tmp in range(0,len(lst)) :\n",
        "        if tmp % 2 == 0 :\n",
        "            result.append(lst[tmp])\n",
        "    return result\n",
        "\n",
        "print(even_index_elements([10, 20, 30, 40, 50]))"
      ],
      "metadata": {
        "colab": {
          "base_uri": "https://localhost:8080/"
        },
        "id": "dp1KKOaEyQz0",
        "outputId": "ff662d23-e9ee-4834-ecd1-bc354e7c52c5"
      },
      "execution_count": null,
      "outputs": [
        {
          "output_type": "stream",
          "name": "stdout",
          "text": [
            "[10, 30, 50]\n"
          ]
        }
      ]
    },
    {
      "cell_type": "code",
      "source": [
        "# 문제 11 : 문자열을 정수로 변환\n",
        "# 문자열로 표현된 숫자를 정수로 변환하는 함수를 작성하세요.\n",
        "# 단, 숫자 이외의 문자가 포함된 경우에는 None을 반황하세요.\n",
        "\n",
        "def str_to_int(s) :\n",
        "    num = '1234567890'\n",
        "    for tmp in range(len(s)) :\n",
        "        if s[tmp] not in num :\n",
        "            return\n",
        "    return int(s)\n",
        "\n",
        "print(str_to_int(\"12345\"))  # 출력: 12345\n",
        "print(str_to_int(\"12a45\"))  # 출력: None"
      ],
      "metadata": {
        "colab": {
          "base_uri": "https://localhost:8080/"
        },
        "id": "PSgfLg5G0jQk",
        "outputId": "4f1905f4-07e6-4c42-adcb-bf32392bc089"
      },
      "execution_count": 23,
      "outputs": [
        {
          "output_type": "stream",
          "name": "stdout",
          "text": [
            "12345\n",
            "None\n"
          ]
        }
      ]
    },
    {
      "cell_type": "code",
      "source": [
        "# 문제 12 : 숫자를 문자열로 변환\n",
        "# 주어진 정수를 문자열로 변환하는 함수를 작성하세요.\n",
        "# 음수와 0도 처리해야 합니다.\n",
        "\n",
        "def int_to_str(n) :\n",
        "    result = str(n)\n",
        "    return result\n",
        "\n",
        "print(int_to_str(12345))\n",
        "print(int_to_str(-12345))"
      ],
      "metadata": {
        "colab": {
          "base_uri": "https://localhost:8080/"
        },
        "id": "EAAXSGRH3Vdq",
        "outputId": "dfa70e59-8fbc-4d2f-f7b2-30227505ba7e"
      },
      "execution_count": 160,
      "outputs": [
        {
          "output_type": "stream",
          "name": "stdout",
          "text": [
            "12345\n",
            "-12345\n"
          ]
        }
      ]
    },
    {
      "cell_type": "code",
      "source": [
        "# 문제 13 : 리스트 합치기\n",
        "# 두 개의 리스트를 하나로 합치는 함수를 작성하세요.\n",
        "\n",
        "def concatenate_lists(lst1, lst2):\n",
        "    return lst1 + lst2\n",
        "\n",
        "print(concatenate_lists([1, 2, 3], [4, 5, 6]))"
      ],
      "metadata": {
        "colab": {
          "base_uri": "https://localhost:8080/"
        },
        "id": "hMomxvLt3xf7",
        "outputId": "e5e718c6-2928-4d7c-841b-efe8bf90e83d"
      },
      "execution_count": 157,
      "outputs": [
        {
          "output_type": "stream",
          "name": "stdout",
          "text": [
            "[1, 2, 3, 4, 5, 6]\n"
          ]
        }
      ]
    },
    {
      "cell_type": "code",
      "source": [
        "# 문제 14 : 문자열에서 모음 개수 세기\n",
        "# 주어진 문자열에서 모음(a, e, i, o, u)의 개수를 세는 함수를 작성하세요.\n",
        "\n",
        "def count_vowels(s):\n",
        "    result = 0;\n",
        "    char = ['a', 'e', 'i', 'o', 'u']\n",
        "    for tmp in range(len(s)) :\n",
        "        if s[tmp] in char :\n",
        "            result = result + 1\n",
        "    return result\n",
        "\n",
        "print(count_vowels(\"hello world\"))"
      ],
      "metadata": {
        "colab": {
          "base_uri": "https://localhost:8080/"
        },
        "id": "Oux-E3kX5Yp6",
        "outputId": "f5484ab9-eb58-4cdb-a84d-becc52594632"
      },
      "execution_count": null,
      "outputs": [
        {
          "output_type": "stream",
          "name": "stdout",
          "text": [
            "3\n"
          ]
        }
      ]
    },
    {
      "cell_type": "code",
      "source": [
        "# 문제 15 : 중첩 리스트 평탄하\n",
        "# 중첩된 리스트를 평탄하하여 단일 리스트로 만드는 함수를 작성하세요.\n",
        "\n",
        "def flatten_list(lst):\n",
        "    result = []\n",
        "    for tmp in lst :\n",
        "        if type(tmp) == list :\n",
        "            result += flatten_list(tmp)\n",
        "        else :\n",
        "            result += [tmp]\n",
        "    return result\n",
        "\n",
        "print(flatten_list([1, [2, 3], [4, [5, 6]], 7]))"
      ],
      "metadata": {
        "id": "UTCUGMpy6KAr",
        "colab": {
          "base_uri": "https://localhost:8080/"
        },
        "outputId": "cde66e72-53dd-4628-9cec-cac504551776"
      },
      "execution_count": 25,
      "outputs": [
        {
          "output_type": "stream",
          "name": "stdout",
          "text": [
            "[1, 2, 3, 4, 5, 6, 7]\n"
          ]
        }
      ]
    }
  ]
}