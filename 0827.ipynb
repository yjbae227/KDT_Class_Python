{
  "nbformat": 4,
  "nbformat_minor": 0,
  "metadata": {
    "colab": {
      "provenance": [],
      "authorship_tag": "ABX9TyO7NwlZTIImuGEYitaLK8Kv",
      "include_colab_link": true
    },
    "kernelspec": {
      "name": "python3",
      "display_name": "Python 3"
    },
    "language_info": {
      "name": "python"
    }
  },
  "cells": [
    {
      "cell_type": "markdown",
      "metadata": {
        "id": "view-in-github",
        "colab_type": "text"
      },
      "source": [
        "<a href=\"https://colab.research.google.com/github/yjbae227/KDT_Class_Python/blob/main/0827.ipynb\" target=\"_parent\"><img src=\"https://colab.research.google.com/assets/colab-badge.svg\" alt=\"Open In Colab\"/></a>"
      ]
    },
    {
      "cell_type": "code",
      "execution_count": 5,
      "metadata": {
        "colab": {
          "base_uri": "https://localhost:8080/"
        },
        "id": "lNT3p0szkzvi",
        "outputId": "e6e92f6d-a180-491c-82d4-fe047d7d969b"
      },
      "outputs": [
        {
          "output_type": "stream",
          "name": "stdout",
          "text": [
            "['톰', '존'] 140204540418176\n",
            "['톰', '존'] 140204540418176\n",
            "['수잔', '존']\n",
            "['수잔', '존']\n",
            "['폴', '존'] 140204540418176\n",
            "['폴', '존'] 140204540418176\n",
            "['수잔', '존'] 140205062375296\n"
          ]
        }
      ],
      "source": [
        "# 객체의 복사\n",
        "\n",
        "\n",
        "# 얕은 복사\n",
        "name1 = ['톰', '존']\n",
        "name2 = name1\n",
        "\n",
        "\n",
        "\n",
        "# name1과 name2는 주소가 같다\n",
        "print(name1, id(name1))\n",
        "print(name2, id(name2))\n",
        "name1[0] = '수잔'\n",
        "print(name1)\n",
        "print(name2)\n",
        "\n",
        "\n",
        "# 깊은 복사\n",
        "import copy\n",
        "name3 = copy.deepcopy(name1)\n",
        "name1[0] = '폴'\n",
        "print(name1, id(name1))\n",
        "print(name2, id(name2))\n",
        "print(name3, id(name3))\n"
      ]
    },
    {
      "cell_type": "code",
      "source": [
        "# 스택과 큐의 구현\n",
        "\n",
        "\n",
        "\n",
        "# 스택 구현\n",
        "print('리스트로 stack(LiF0) 처리')\n",
        "sbs =[10, 20, 30]\n",
        "sbs.append(40)\n",
        "print(sbs)\n",
        "sbs.pop();\n",
        "print(sbs)\n",
        "sbs.pop();\n",
        "print(sbs)\n",
        "\n",
        "\n",
        "# 큐 구현\n",
        "print('리스트로 queue(FiFO) 처리')\n",
        "sbs = [10, 20, 30]\n",
        "sbs.append(40)\n",
        "print(sbs)\n",
        "sbs.pop(0)\n",
        "print(sbs)\n",
        "sbs.pop(0)\n",
        "print(sbs)\n"
      ],
      "metadata": {
        "colab": {
          "base_uri": "https://localhost:8080/"
        },
        "id": "PALTbC50nQYd",
        "outputId": "ca127769-e3f6-4522-8778-fca31d93a075"
      },
      "execution_count": 9,
      "outputs": [
        {
          "output_type": "stream",
          "name": "stdout",
          "text": [
            "리스트로 stack(LiF0) 처리\n",
            "[10, 20, 30, 40]\n",
            "[20, 30, 40]\n",
            "[20, 30]\n",
            "리스트로 queue(FiFO) 처리\n",
            "[10, 20, 30, 40]\n",
            "[20, 30, 40]\n",
            "[30, 40]\n"
          ]
        }
      ]
    },
    {
      "cell_type": "code",
      "source": [
        "# 튜플 살펴보기\n",
        "\n",
        "t = ('a', 'b', 'c', 'd')\n",
        "print(t)\n",
        "\n",
        "print('크기는 ', len(t))\n",
        "print('a 문자 값은 몇 개', t.count('a'))\n",
        "print('b 문자 검색', t.index('b'))\n",
        "\n",
        "\n",
        "# 튜플 자료형의 데이터를 변경하는 방법\n",
        "p = (1, 2, 3)\n",
        "q  = list(p)\n",
        "print('q는 ', q)\n",
        "q[1] = 10\n",
        "p = tuple(q)\n",
        "print('q는 ', q)\n",
        "\n",
        "\n",
        "print(p[1:])\n",
        "\n",
        "\n",
        "print('요솟값 교환하기')\n",
        "t1 = (10, 20)\n",
        "print('t1은 ', t1)\n",
        "a, b = t1\n",
        "b, a = a, b\n",
        "t1 = a, b\n",
        "print('t1은 ', t1)\n"
      ],
      "metadata": {
        "colab": {
          "base_uri": "https://localhost:8080/"
        },
        "id": "wDM5kwhwnrxa",
        "outputId": "9caefe60-4435-4d1d-ee8d-b02daf5241f2"
      },
      "execution_count": 15,
      "outputs": [
        {
          "output_type": "stream",
          "name": "stdout",
          "text": [
            "('a', 'b', 'c', 'd')\n",
            "크기는  4\n",
            "a 문자 값은 몇 개 1\n",
            "b 문자 검색 1\n",
            "q는  [1, 2, 3]\n",
            "q는  [1, 10, 3]\n",
            "(10, 3)\n",
            "요솟값 교환하기\n",
            "t1은  (10, 20)\n",
            "t1은  (20, 10)\n"
          ]
        }
      ]
    },
    {
      "cell_type": "code",
      "source": [
        "# 세트 살펴보기 1\n",
        "\n",
        "\n",
        "\n",
        "a = {1, 2, 3, 1}\n",
        "print(a)\n",
        "print('a의 크기는', len(a))\n",
        "\n",
        "b = {3, 4}\n",
        "\n",
        "print('a와 b의 합집합 ', a.union(b))\n",
        "print('a와 b의 교집합 ', a.intersection(b))\n",
        "print('a와 b의 차집합 ', a.difference(b))\n",
        "\n",
        "print('합집합(a | b) : %s' %(a | b))\n",
        "print('교집합(a & b) : %s' %(a & b))\n",
        "print('차집합(a - b) : %s' %(a - b))\n"
      ],
      "metadata": {
        "colab": {
          "base_uri": "https://localhost:8080/"
        },
        "id": "LTJc6qdjsNLA",
        "outputId": "7dfc5e1d-c61c-43c7-b520-914ec743e2f0"
      },
      "execution_count": 18,
      "outputs": [
        {
          "output_type": "stream",
          "name": "stdout",
          "text": [
            "{1, 2, 3}\n",
            "a의 크기는 3\n",
            "a와 b의 합집합  {1, 2, 3, 4}\n",
            "a와 b의 교집합  {3}\n",
            "a와 b의 차집합  {1, 2}\n",
            "합집합(a | b) : {1, 2, 3, 4}\n",
            "교집합(a & b) : {3}\n",
            "차집합(a - b) : {1, 2}\n"
          ]
        }
      ]
    }
  ]
}