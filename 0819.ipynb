{
  "nbformat": 4,
  "nbformat_minor": 0,
  "metadata": {
    "colab": {
      "provenance": [],
      "authorship_tag": "ABX9TyNXmbnNPsRagaSCkw7ID2rx",
      "include_colab_link": true
    },
    "kernelspec": {
      "name": "python3",
      "display_name": "Python 3"
    },
    "language_info": {
      "name": "python"
    }
  },
  "cells": [
    {
      "cell_type": "markdown",
      "metadata": {
        "id": "view-in-github",
        "colab_type": "text"
      },
      "source": [
        "<a href=\"https://colab.research.google.com/github/yjbae227/KDT_Class_Python/blob/main/0819.ipynb\" target=\"_parent\"><img src=\"https://colab.research.google.com/assets/colab-badge.svg\" alt=\"Open In Colab\"/></a>"
      ]
    },
    {
      "cell_type": "code",
      "execution_count": 3,
      "metadata": {
        "colab": {
          "base_uri": "https://localhost:8080/"
        },
        "id": "BwOaXEdothqy",
        "outputId": "6c594804-9c56-4d41-8850-3ff9073d5503"
      },
      "outputs": [
        {
          "output_type": "stream",
          "name": "stdout",
          "text": [
            "60\n"
          ]
        }
      ],
      "source": [
        "# 함수 (function)\n",
        "# 사용자 정의 함수 (User define function)\n",
        "def my_sum(a, b, c) :\n",
        "    return a + b + c\n",
        "\n",
        "result = my_sum(10, 20, 30)\n",
        "print(result)"
      ]
    },
    {
      "cell_type": "code",
      "source": [
        "# 다수의 가변인자를 전달하는 경우\n",
        "def my_sum(*args):\n",
        "    result = 0\n",
        "    for tmp in args :\n",
        "        result += tmp\n",
        "    return result\n",
        "\n",
        "print(my_sum(10, 20))\n",
        "print(my_sum(10, 20, 30))\n",
        "print(my_sum(10, 20, 50, 70))"
      ],
      "metadata": {
        "colab": {
          "base_uri": "https://localhost:8080/"
        },
        "id": "xrI1KWvr2MKs",
        "outputId": "6e371db8-914a-4736-978c-c5c32c3b23de"
      },
      "execution_count": 6,
      "outputs": [
        {
          "output_type": "stream",
          "name": "stdout",
          "text": [
            "30\n",
            "60\n",
            "150\n"
          ]
        }
      ]
    },
    {
      "cell_type": "code",
      "source": [
        "# 함수 정의\n",
        "def my_sum(a, b, c=100) :\n",
        "    pass\n",
        "\n",
        "# 만약 세번째 인자가 들어오지 않으면 C는 값을 100으로\n",
        "# default로 사용하세요\n",
        "my_sum(10, 20)\n",
        "my_sum(10, 20, 30)"
      ],
      "metadata": {
        "id": "iqQR-rr34ZB0"
      },
      "execution_count": 8,
      "outputs": []
    },
    {
      "cell_type": "code",
      "source": [
        "# python안에 정해져 있는 Keyword들이 있어요\n",
        "# list, tuple, range\n",
        "mu_tuple = tuple([1, 2, 3, 4])\n",
        "print(mu_tuple)\n",
        "\n",
        "tuple = '소리 없는 아우성'\n",
        "my_tuple = tuple([1,2,3,4])\n",
        "print(my_tuple)"
      ],
      "metadata": {
        "colab": {
          "base_uri": "https://localhost:8080/",
          "height": 220
        },
        "id": "3RConO0x-HJz",
        "outputId": "6ded056e-b541-4644-ac59-06b198ef7abb"
      },
      "execution_count": 14,
      "outputs": [
        {
          "output_type": "error",
          "ename": "TypeError",
          "evalue": "'str' object is not callable",
          "traceback": [
            "\u001b[0;31m---------------------------------------------------------------------------\u001b[0m",
            "\u001b[0;31mTypeError\u001b[0m                                 Traceback (most recent call last)",
            "\u001b[0;32m/tmp/ipython-input-872233140.py\u001b[0m in \u001b[0;36m<cell line: 0>\u001b[0;34m()\u001b[0m\n\u001b[1;32m      1\u001b[0m \u001b[0;31m# python안에 정해져 있는 Keyword들이 있어요\u001b[0m\u001b[0;34m\u001b[0m\u001b[0;34m\u001b[0m\u001b[0m\n\u001b[1;32m      2\u001b[0m \u001b[0;31m# list, tuple, range\u001b[0m\u001b[0;34m\u001b[0m\u001b[0;34m\u001b[0m\u001b[0m\n\u001b[0;32m----> 3\u001b[0;31m \u001b[0mmu_tuple\u001b[0m \u001b[0;34m=\u001b[0m \u001b[0mtuple\u001b[0m\u001b[0;34m(\u001b[0m\u001b[0;34m[\u001b[0m\u001b[0;36m1\u001b[0m\u001b[0;34m,\u001b[0m \u001b[0;36m2\u001b[0m\u001b[0;34m,\u001b[0m \u001b[0;36m3\u001b[0m\u001b[0;34m,\u001b[0m \u001b[0;36m4\u001b[0m\u001b[0;34m]\u001b[0m\u001b[0;34m)\u001b[0m\u001b[0;34m\u001b[0m\u001b[0;34m\u001b[0m\u001b[0m\n\u001b[0m\u001b[1;32m      4\u001b[0m \u001b[0mprint\u001b[0m\u001b[0;34m(\u001b[0m\u001b[0mmu_tuple\u001b[0m\u001b[0;34m)\u001b[0m\u001b[0;34m\u001b[0m\u001b[0;34m\u001b[0m\u001b[0m\n\u001b[1;32m      5\u001b[0m \u001b[0;34m\u001b[0m\u001b[0m\n",
            "\u001b[0;31mTypeError\u001b[0m: 'str' object is not callable"
          ]
        }
      ]
    },
    {
      "cell_type": "code",
      "source": [
        "%reset -f\n",
        "# 메모리에 있는 모든 내용이 초기화 되어요\n",
        "\n"
      ],
      "metadata": {
        "id": "xEQ7mTG--7Ij"
      },
      "execution_count": 15,
      "outputs": []
    },
    {
      "cell_type": "code",
      "source": [
        "# 지역번수와 전역변수 / local variable VS global variable\n",
        "# 변수의 scope(범위)\n",
        "# 변수를 사용할 수 있는 범위\n",
        "# 변수를 만들고 그 변수를 어디에서 사용할 지\n",
        "my_var = 100                    # global variable(전역변수)\n",
        "\n",
        "# 함수를 정의\n",
        "def my_func(x) :                # 함수내부는 scope가 새롭게 열려요\n",
        "    test = x + 10               # x 변수와 test 변수는 함수가 호출되면 만들어지고\n",
        "    return test                 # 함수 수행이 끝나면 메모리에서 삭제되어요\n",
        "\n",
        "print (my_func(20))"
      ],
      "metadata": {
        "colab": {
          "base_uri": "https://localhost:8080/"
        },
        "id": "AfJvt4UI5FqL",
        "outputId": "c9758792-acc5-4fc0-c22a-00d1c4f7ff09"
      },
      "execution_count": 20,
      "outputs": [
        {
          "output_type": "stream",
          "name": "stdout",
          "text": [
            "30\n"
          ]
        }
      ]
    },
    {
      "cell_type": "code",
      "source": [
        "my_global = '글로벌이에요!'    # global variable\n",
        "\n",
        "# 함수도 객체에요! (함수는 코드 block => 실행코드의 집합)\n",
        "def my_func(x) :\n",
        "    global my_global                    # 전역변수로 지\n",
        "    my_global = '소리없는 아우성!!'\n",
        "    return x + 100\n",
        "\n",
        "print(my_global)\n",
        "print(my_func(10)) # 110\n",
        "print(my_global)"
      ],
      "metadata": {
        "colab": {
          "base_uri": "https://localhost:8080/"
        },
        "id": "4c5hZdeVEBay",
        "outputId": "c3b56ddd-03ba-4e0f-8dbc-216527efcdaf"
      },
      "execution_count": 28,
      "outputs": [
        {
          "output_type": "stream",
          "name": "stdout",
          "text": [
            "글로벌이에요!\n",
            "110\n",
            "소리없는 아우성!!\n"
          ]
        }
      ]
    },
    {
      "cell_type": "code",
      "source": [
        "# 이렇게 사용자 정의 함수에 대해서\n",
        "#   - 어떻게 만들고\n",
        "#   - 어떻게 사용하는지\n",
        "#   - 사용시 주의점(scoope)에 대해서 알아보았어요\n",
        "\n",
        "#Python이 기본적으로 가지고 있는 함수들이 있어요\n",
        "# type() : 객체의 class명을 알려줘요\n",
        "# 이런 함수들은 편하게 사용할 수 있는 함수기이기 때문에\n",
        "# 많이 알면 알수록 좋습니다.\n",
        "# len() : 길이를 구해줘요\n",
        "# all() : 집합형 자료구조에 대해서 인자가 모두 참이면 True, 그렇지 않으면  False\n",
        "\n",
        "# any() : 집합형 자료구조에 대해서 인자가 하나라도 참이면 True, 그렇지 않으면 False\n",
        "\n",
        "# enumerate() : 순서가 있는 자료형을 입력받아서 index를 포함하는 객체를 리턴\n",
        "# map() : 순서가 있는 자료형에 특정 함수를 각각 적용해서 map객체를 리턴하는 함수"
      ],
      "metadata": {
        "id": "8jUZFgl9O005"
      },
      "execution_count": 48,
      "outputs": []
    },
    {
      "cell_type": "code",
      "source": [
        "my_list = [1, 2, 3, 4, 5]\n",
        "print(len(my_list))\n",
        "my_dict = { 'name' : '홍길동',\n",
        "            'age' : 20,\n",
        "            'address' : '서울'\n",
        "            }\n",
        "print(len(my_dict))\n",
        "my_str= '이것은 소리없는 아우성!!'\n",
        "print(len(my_str))\n"
      ],
      "metadata": {
        "colab": {
          "base_uri": "https://localhost:8080/"
        },
        "id": "5cSyl4u9Pl1J",
        "outputId": "c0981e79-1692-4229-b813-9b965d17fecd"
      },
      "execution_count": 33,
      "outputs": [
        {
          "output_type": "stream",
          "name": "stdout",
          "text": [
            "5\n",
            "3\n",
            "14\n"
          ]
        }
      ]
    },
    {
      "cell_type": "code",
      "source": [
        "# all(), any()\n",
        "\n",
        "my_list=[3.14, 100, '안녕하세요', 0]\n",
        "print(all(my_list))             # False\n",
        "print(any(my_list))             # true\n",
        "\n"
      ],
      "metadata": {
        "colab": {
          "base_uri": "https://localhost:8080/"
        },
        "id": "1q5ER6Z3Q14g",
        "outputId": "da30ec8f-fac7-45be-8e51-bec25037bdf5"
      },
      "execution_count": 36,
      "outputs": [
        {
          "output_type": "stream",
          "name": "stdout",
          "text": [
            "False\n",
            "True\n"
          ]
        }
      ]
    },
    {
      "cell_type": "code",
      "source": [
        "# enumerate()\n",
        "my_str=[\"이것은\", \"소리없는\", \"아우성\"]\n",
        "result = enumerate(my_str)\n",
        "print(result)\n",
        "my_list = list(result)\n",
        "print(my_list)"
      ],
      "metadata": {
        "colab": {
          "base_uri": "https://localhost:8080/"
        },
        "id": "aCqScUaoSF0x",
        "outputId": "cbe3e06b-ce6c-4d5e-f27b-eb451cd17a33"
      },
      "execution_count": 40,
      "outputs": [
        {
          "output_type": "stream",
          "name": "stdout",
          "text": [
            "<enumerate object at 0x7f36ccd93600>\n",
            "[(0, '이것은'), (1, '소리없는'), (2, '아우성')]\n"
          ]
        }
      ]
    },
    {
      "cell_type": "code",
      "source": [
        "# for (idx, tmp) in enumerate([\"이것은\", \"소리없는\", \"아우성!!\"]) :\n",
        "my_list = [tmp for (idx, tmp) in enumerate([\"이것은\", \"소리없는\", \"아우성\"])]\n",
        "print(my_list)\n",
        "my_list = {idx :tmp for (idx, tmp) in enumerate([\"이것은\", \"소리없는\", \"아우성\"])}\n",
        "print(my_list)"
      ],
      "metadata": {
        "colab": {
          "base_uri": "https://localhost:8080/"
        },
        "id": "Nyx3mW4UTKwR",
        "outputId": "5b0a12f0-df37-41a1-84f7-c821febbbf44"
      },
      "execution_count": 45,
      "outputs": [
        {
          "output_type": "stream",
          "name": "stdout",
          "text": [
            "['이것은', '소리없는', '아우성']\n",
            "{0: '이것은', 1: '소리없는', 2: '아우성'}\n"
          ]
        }
      ]
    },
    {
      "cell_type": "code",
      "source": [
        "# map()\n",
        "# 반복 가능한 객체(list, tuple, range)의 각 요소에\n",
        "# 특정 함수를 적용할 수 있어요. 그래서 그 결과를 담은 객체를 얻을 수 있어요\n",
        "\n",
        "def my_square(x) :\n",
        "    return x ** 2\n",
        "\n",
        "my_numbers = [7, 8, 9, 10]\n",
        "squared_numbers = map(my_square, my_numbers)\n",
        "print(list(squared_numbers))"
      ],
      "metadata": {
        "colab": {
          "base_uri": "https://localhost:8080/"
        },
        "id": "zgTVNJKCUcF5",
        "outputId": "c1c730c0-7e8a-4136-eb23-e6734dd286ad"
      },
      "execution_count": 47,
      "outputs": [
        {
          "output_type": "stream",
          "name": "stdout",
          "text": [
            "[49, 64, 81, 100]\n"
          ]
        }
      ]
    },
    {
      "cell_type": "code",
      "source": [],
      "metadata": {
        "id": "EOYvlVNAVimh"
      },
      "execution_count": null,
      "outputs": []
    }
  ]
}