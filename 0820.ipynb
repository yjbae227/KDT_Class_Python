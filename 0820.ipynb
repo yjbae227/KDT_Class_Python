{
  "nbformat": 4,
  "nbformat_minor": 0,
  "metadata": {
    "colab": {
      "provenance": [],
      "authorship_tag": "ABX9TyNgkuRKD5Ys9i6Ao5i4anOe",
      "include_colab_link": true
    },
    "kernelspec": {
      "name": "python3",
      "display_name": "Python 3"
    },
    "language_info": {
      "name": "python"
    }
  },
  "cells": [
    {
      "cell_type": "markdown",
      "metadata": {
        "id": "view-in-github",
        "colab_type": "text"
      },
      "source": [
        "<a href=\"https://colab.research.google.com/github/yjbae227/KDT_Class_Python/blob/main/0820.ipynb\" target=\"_parent\"><img src=\"https://colab.research.google.com/assets/colab-badge.svg\" alt=\"Open In Colab\"/></a>"
      ]
    },
    {
      "cell_type": "code",
      "execution_count": 3,
      "metadata": {
        "id": "BJk3dV791jZW"
      },
      "outputs": [],
      "source": [
        "# 학생의 이름, 학과, 학번\n",
        "# 학생이 1명 있어요 !\n",
        "student_name = '홍길동'\n",
        "student_dept = '철학과'\n",
        "student_num = '20250101'            # 문자열이 훨씬 처리하기 좋아요!\n",
        "\n",
        "student1_name = '신사임당'\n",
        "student1_dep = '국어국문'\n",
        "student1_num = '20250102'\n",
        "\n",
        "student2_name = '이순신'\n",
        "student2_dep = '기계공학'\n",
        "student2_num = '20250103'\n",
        "\n",
        "# 여러명의 데이터를 저장하려면 어떤 방법이 있을까요?\n",
        "students_name = ['홍길동', '신사임당', '이순신']\n",
        "students_dept = ['철학과', '국어국문', '기계공학']\n",
        "students_num = ['20250101', '20250102', '20250103']\n",
        "\n",
        "\n",
        "students_info = [('홍길동', '철학과', '20250101'),\n",
        "                 ('신사임당', '국어국문', '20250102'),\n",
        "                 ('이순신', '기계공학', '20250103')]"
      ]
    },
    {
      "cell_type": "code",
      "source": [
        "# 위와 유사하게 한명의 데이터를 논리적인 단위로 묶어\n",
        "# 표현하는 방법에 대해서 알아보아요!\n",
        "# 객체를 만들어서 한 객체에 한명의 데이터를 모두 저장해 볼게요\n",
        "# 객체는 당연히 3개가 있어야 해요\n",
        "# 객체는 (object, instanc  e)\n",
        "# 객체를 만들려면 반드시 class라는 것이 있어야 해요\n",
        "\n",
        "# 그래서 3개의 정보를 저장하는 class를 정의해야 해요\n",
        "class Student(object) :\n",
        "    # 정해져 있는 특이한 함수가 나와요\n",
        "    # 다른언어에서는 생성자(constructor)라고 하는데\n",
        "    # python에서는 initialize라고 해요\n",
        "    # 이 함의 역할은 객체를 초기화 해주는 거에요\n",
        "    def __init__(self, name, dept, num) :\n",
        "        # name, dept, nym : parameter\n",
        "        self.name = name            # self.name의 name은 속성(Property)\n",
        "        self.dept = dept\n",
        "        self.num = num\n",
        "\n",
        "student1 = Student('홍길동', '철학과', '20250101')\n",
        "# 클래스를 마치 함수 호출하듯이 사용!\n",
        "# 자동으로 __init__()가 호출되어요\n",
        "print(student1.dept)\n",
        "\n",
        "\n",
        "# 객체지향 프로그래밍 방식은\n",
        "# 내가 해결해야하는 현실세계의 문제를 구성하고 있는\n",
        "# 구성요소를 찾아서 이걸 프로그램으로 표현\n",
        "# 이 구성요소를 프로그램으로 표현하는 단위 => class"
      ],
      "metadata": {
        "colab": {
          "base_uri": "https://localhost:8080/"
        },
        "id": "0LSO3zKHJliI",
        "outputId": "67b19e04-24d6-4dba-e7de-8477b0c9684b"
      },
      "execution_count": 8,
      "outputs": [
        {
          "output_type": "stream",
          "name": "stdout",
          "text": [
            "철학과\n"
          ]
        }
      ]
    },
    {
      "cell_type": "code",
      "source": [
        "# 학생에 대한 Class를 정의하고\n",
        "# class를 이용해서 instance를 생성한 후 사용해 보아요\n",
        "class Student(object) :\n",
        "    # 특별한 일을 하는 정해져 있는 함수에요\n",
        "    def __init__(self, name, dept, score) :\n",
        "        # 초기화 코드가 나와요!\n",
        "        # 객체가 가지고 있는 속성(property)를 정의\n",
        "        self.name = name\n",
        "        self.dept = dept\n",
        "        self.score = score\n",
        "\n",
        "    # 사용자 정의 함수를 만들 수 있어요\n",
        "    # 함수에요, 함수처럼 생겼어요! => 메소드(method)\n",
        "    def print_info(self) :\n",
        "        print(self.name + ' ' + self.dept + ' ' + str(self.score))\n",
        "\n",
        "\n",
        "# instance(객체)를 생성\n",
        "student1 = Student('신사임당', '국어국문', 3.0)\n",
        "print(student1.name)\n",
        "student1.print_info()\n"
      ],
      "metadata": {
        "colab": {
          "base_uri": "https://localhost:8080/"
        },
        "id": "OObV_bJSiWVL",
        "outputId": "263fd412-a2fb-493d-d5cf-41dbf435d7ac"
      },
      "execution_count": 14,
      "outputs": [
        {
          "output_type": "stream",
          "name": "stdout",
          "text": [
            "신사임당\n",
            "신사임당 국어국문 3.0\n"
          ]
        }
      ]
    }
  ]
}