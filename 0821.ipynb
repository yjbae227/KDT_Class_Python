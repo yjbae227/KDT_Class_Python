{
  "nbformat": 4,
  "nbformat_minor": 0,
  "metadata": {
    "colab": {
      "provenance": [],
      "authorship_tag": "ABX9TyM2yeRXip5KYte19U6U/Hgs",
      "include_colab_link": true
    },
    "kernelspec": {
      "name": "python3",
      "display_name": "Python 3"
    },
    "language_info": {
      "name": "python"
    }
  },
  "cells": [
    {
      "cell_type": "markdown",
      "metadata": {
        "id": "view-in-github",
        "colab_type": "text"
      },
      "source": [
        "<a href=\"https://colab.research.google.com/github/yjbae227/KDT_Class_Python/blob/main/0821.ipynb\" target=\"_parent\"><img src=\"https://colab.research.google.com/assets/colab-badge.svg\" alt=\"Open In Colab\"/></a>"
      ]
    },
    {
      "cell_type": "code",
      "execution_count": null,
      "metadata": {
        "colab": {
          "base_uri": "https://localhost:8080/"
        },
        "id": "tAJkFtB8EmUq",
        "outputId": "d37067bd-2b1d-4dd0-fea2-bd7a533901d5"
      },
      "outputs": [
        {
          "output_type": "stream",
          "name": "stdout",
          "text": [
            "멍멍이\n",
            "멍멍이가 소리를 냅니다.\n"
          ]
        }
      ],
      "source": [
        "# 간단한게 class를 하나 정의 보아요\n",
        "class Animal :              # (object) 생략가능\n",
        "    # 관용적으로 코드를 작성하는 방법이 있어요.\n",
        "    def __init__(self, name) :\n",
        "        self.name = name\n",
        "\n",
        "    def speak(self) :\n",
        "        return f'{self.name}가 소리를 냅니다.'\n",
        "\n",
        "# Animal : class 명\n",
        "# __init__() : 생성자 함수, initializer, 객체 초기화 담당\n",
        "# self : 생성되는 instance를 가리키고 있는 임시 변수\n",
        "# speak() : method. (비즈니스) 메소드\n",
        "\n",
        "# 자 이제 instance를 생성해보아요\n",
        "# instance를 이용할 때는 dot operator(.)을 사용해요\n",
        "obj1 = Animal('멍멍이')\n",
        "print(obj1.name)            # 멍멍이\n",
        "print(obj1.speak())         # 멍멍이가 소리를 냅니다.\n",
        "\n",
        "# 기존의 Class를 확장해서 새로운 class를 만들고 싶어요\n",
        "# 1. 기존 class의 코드를 복사해서 새로운 class를 정의\n",
        "#       => 이 방식은 코드의 재활용측면에서 좋지 않아요!\n",
        "# 2. 상속(Inheritance)이라는 기법을 이용해서 class를 정의\n",
        "\n"
      ]
    },
    {
      "cell_type": "code",
      "source": [
        "# 위에서 정의한 Animal class를 상속받아서 Dog class를 정의\n",
        "class Dog(Animal) :\n",
        "    # 원래는 이 안에\n",
        "    # def __init__() :\n",
        "    # 단, 상속받는 경우에는 이 함수가 안나와도 되요.\n",
        "    # 만약 나오지 않는다면 상위 class의 __init__()를 사용해요\n",
        "    def eat(self) :\n",
        "        return f'{self.name}이 밥을 먹어요!'\n",
        "\n",
        "my_dog = Dog('시베리안 허스키')\n",
        "print(my_dog.name)\n",
        "print(my_dog.speak())\n",
        "print(my_dog.eat())"
      ],
      "metadata": {
        "colab": {
          "base_uri": "https://localhost:8080/"
        },
        "id": "IY79b64AQ26f",
        "outputId": "02444946-5261-4b2a-cb8a-1d829807231c"
      },
      "execution_count": null,
      "outputs": [
        {
          "output_type": "stream",
          "name": "stdout",
          "text": [
            "시베리안 허스키\n",
            "시베리안 허스키가 소리를 냅니다.\n",
            "시베리안 허스키이 밥을 먹어요!\n"
          ]
        }
      ]
    },
    {
      "cell_type": "code",
      "source": [
        "# Object는 python이 내장으로 가지고 있는 class\n",
        "# 그리고 모든 class는 이 object class의 하위 class에요\n",
        "class Animal(object) :\n",
        "    def __init__(self, name) :\n",
        "        self.name = name\n",
        "    def speak(self) :\n",
        "        return f'{self.name}가 소리를 냅니다.'\n",
        "\n",
        "class Cat(Animal) :\n",
        "\n",
        "    def __init__(self, name, age) :\n",
        "        # super()\n",
        "        # 자식 클래스에서 부모클래스의 메소드나 속성을\n",
        "        # 명시적으로 호출 할 때 사용\n",
        "        super().__init__(name)\n",
        "        # self.name = name\n",
        "        self.age = age\n",
        "        # 일일이 다 기술하는게 아니라\n",
        "        # 부모가 가지고 있는 init()를 이용하고\n",
        "        # 추가적인 부분만 기술하고 싶어요\n",
        "\n",
        "    # 메소드를 재정의 할 수 있어요.\n",
        "    # method overrideing\n",
        "    def speak(self) :\n",
        "        return '냐아아아옹!!'\n",
        "\n",
        "cat1 = Cat('페르시안 고양이', 5)\n",
        "print(cat1)\n",
        "# my_cat = Cat('페르시안 고양이')\n",
        "# print(my_cat.speak())\n",
        "\n",
        "\n"
      ],
      "metadata": {
        "colab": {
          "base_uri": "https://localhost:8080/"
        },
        "id": "rKh-KEqyTORA",
        "outputId": "7f954bca-2022-4578-cf97-ebba892929fb"
      },
      "execution_count": null,
      "outputs": [
        {
          "output_type": "stream",
          "name": "stdout",
          "text": [
            "<__main__.Cat object at 0x7954ddd0a660>\n"
          ]
        }
      ]
    },
    {
      "cell_type": "code",
      "source": [
        "#\n",
        "\n",
        "\n",
        "\n",
        "\n",
        "\n",
        "\n",
        "class Rectangle :\n",
        "    def __init__(self, width, heigh) :\n",
        "        self.width = width\n",
        "        self.heigh = heigh\n",
        "\n",
        "    def area(self) :\n",
        "        return self.width * self.heigh\n",
        "\n",
        "rect = Rectangle(5, 10)\n",
        "print(rect.area())"
      ],
      "metadata": {
        "colab": {
          "base_uri": "https://localhost:8080/"
        },
        "id": "DAKa9Mtekt8t",
        "outputId": "2aaa821c-5d24-4515-d47e-a2a5a0ade0b7"
      },
      "execution_count": null,
      "outputs": [
        {
          "output_type": "stream",
          "name": "stdout",
          "text": [
            "50\n"
          ]
        }
      ]
    },
    {
      "cell_type": "code",
      "source": [
        "# 문제 2 : 상속을 이용한 클래스 정의\n",
        "# 목표 : 상속을 사용하여 기존 클래스의 기능을 확장하기\n",
        "\n",
        "# 문제 : 'Square' 클래스를 정의하세요\n",
        "# 이 클래스는 'Rectangle' 클래스를 상속받아 만들며,\n",
        "# 한 변이 길이만 가지는 정사각형입니다.\n",
        "\n",
        "\n",
        "class Square(Rectangle) :\n",
        "\n",
        "    def __init__(self,num) :\n",
        "        super().__init__(num, num)\n",
        "\n",
        "sq = Square(4)\n",
        "print(sq.area())"
      ],
      "metadata": {
        "colab": {
          "base_uri": "https://localhost:8080/"
        },
        "id": "ITzMZOHYlVWl",
        "outputId": "36dec710-403f-4ed3-a270-990e3453d786"
      },
      "execution_count": null,
      "outputs": [
        {
          "output_type": "stream",
          "name": "stdout",
          "text": [
            "16\n"
          ]
        }
      ]
    },
    {
      "cell_type": "code",
      "source": [
        "class Car :\n",
        "    def __init__(self, brand, price) :\n",
        "        self.brand = brand\n",
        "        self.price = price\n",
        "\n",
        "    # 객체의 내용을 문자열로 변경해주는 역할\n",
        "    # 기본적으로 제공되는 __str__은 어떻게 문자열로 변경하나요?\n",
        "    #       -> 객체의 클래스와 메모리 주소를 문자열로 변경하는 일을 해요\n",
        "    # 일반적으로 내가 원하는 형태로 변경해서 재정의해서 사용!\n",
        "    # override해서 사용\n",
        "    def __str__(self) :\n",
        "        return f'자동차의 브랜드는 {self.brand}이고 가격은 {self.price} 입니다.'\n",
        "car1 = Car('BMW', 1000) # instance 생성\n",
        "\n",
        "# car1이라는 객체가 가지는 내용을 출력하고 싶어요 '\n",
        "# print(car1.__str__())\n",
        "print(car1)     # 내용이 출력되는게 아니라 class명과 메모리 주소가 출력\n",
        "                # 사실은 메모리 주소가 아니라 메모리 주소의 해시값\n",
        "\n",
        "# 잘 생각해보면\n",
        "# print()라는 함수는 인자(괄호안에) 무조건 문자열이 와야해요!\n",
        "# 만약 문자열이 오지 않으면 문자열로 강제로 변경하려고 해요\n",
        "\n"
      ],
      "metadata": {
        "colab": {
          "base_uri": "https://localhost:8080/"
        },
        "id": "KnZ2HJXeshN9",
        "outputId": "9721477b-672b-4aeb-ca21-cc7692ba297e"
      },
      "execution_count": null,
      "outputs": [
        {
          "output_type": "stream",
          "name": "stdout",
          "text": [
            "자동차의 브랜드는 BMW이고 가격은 1000 입니다.\n"
          ]
        }
      ]
    },
    {
      "cell_type": "code",
      "source": [
        "# 문제 3: 생성자와 문자열 표현\n",
        "# 목표 : 생성자와 __str__ 메서드 이해하기\n",
        "\n",
        "# 문제: 'Person' 클래스를 정의하세요\n",
        "# 이 클래스는 이름(name)과 나이(age)를 인스턴스 변수로 가지며,\n",
        "# 객체를 문자열로 표현하는 '__str__' 메서드를 포함합니다.\n",
        "\n",
        "class Person :\n",
        "    def __init__(self, name, age) :\n",
        "        self.name = name\n",
        "        self.age = age\n",
        "\n",
        "    def __str__(self) :\n",
        "        return f'Person(name={self.name}, age={self.age})'\n",
        "\n",
        "person = Person('Alice', 30)\n",
        "print(person)"
      ],
      "metadata": {
        "colab": {
          "base_uri": "https://localhost:8080/"
        },
        "id": "Q_sBOl5KtYXl",
        "outputId": "e2653f6d-c6db-4d66-9171-547a29418ab4"
      },
      "execution_count": null,
      "outputs": [
        {
          "output_type": "stream",
          "name": "stdout",
          "text": [
            "Person(name=Alice, age=30)\n"
          ]
        }
      ]
    },
    {
      "cell_type": "code",
      "source": [
        "# 다른 magic function 하나만 더 알아보아요!\n",
        "class MyNumber:\n",
        "    def __init__(self, num) :\n",
        "        self.num = num\n",
        "\n",
        "    def __add__(self, other) :\n",
        "        return '이걸 더하려고???'\n",
        "\n",
        "\n",
        "num1 = MyNumber(10)\n",
        "num2 = MyNumber(20)\n",
        "# print(num1 + num2)\n",
        "\n",
        "# + 기호는 연산자이고 앞에 오는 객체에 따라서 용법이 달라져요!\n",
        "# + 기호 앞에 Numeric 객체 (int, float class의 객체\n",
        "# int class가 가지고 있는 __add__()라는 magic function이 호출되요!\n",
        "# 이 함수에서 실제적인 코드처리가 이루어져요(더하기 연산)\n"
      ],
      "metadata": {
        "id": "4EkGpI0Gxijd"
      },
      "execution_count": null,
      "outputs": []
    },
    {
      "cell_type": "code",
      "source": [
        "# Data Type\n",
        "\n",
        "# int class, float class => Numeric\n",
        "100                 # 객체 -> class => int class\n",
        "3.14                # 객체 -> class -> float class\n",
        "# python에 내장된 classsms 소문자로 시작\n",
        "my_int = int(100)   # 너무 불편하니 그냥 100으로 쓰는 것도 객체로 자동생성\n",
        "100 + 200\n"
      ],
      "metadata": {
        "colab": {
          "base_uri": "https://localhost:8080/"
        },
        "id": "1vNLiYZQHlcX",
        "outputId": "9d761bbb-7a51-443d-cda5-db1244316902"
      },
      "execution_count": null,
      "outputs": [
        {
          "output_type": "execute_result",
          "data": {
            "text/plain": [
              "300"
            ]
          },
          "metadata": {},
          "execution_count": 47
        }
      ]
    },
    {
      "cell_type": "code",
      "source": [
        "# 문제 7 : 연산자 오버로딩\n",
        "# 목표 : 객체 간의 연산 구현하기.\n",
        "\n",
        "# 문제 : 'Vector' 클래스를 정의하세요\n",
        "# 이 클래스는 2차원 벡터(x, y)를 나타내며,\n",
        "# '+' 연산자를 오버로딩하여 두 벡터의 합을 계산할 수 있게 합니다.\n",
        "\n",
        "class Vector :\n",
        "    def __init__(self, n, m) :\n",
        "        self.n = n\n",
        "        self.m = m\n",
        "\n",
        "    def __add__(self, other) :\n",
        "        return Vector(self.n + other.n, self.m + other.m)\n",
        "\n",
        "    def __str__(self) :\n",
        "        return f'Vector(x={self.n}, y={self.m})'\n",
        "\n",
        "v1 = Vector(2, 3)\n",
        "v2 = Vector(4, 5)\n",
        "v3 = v1 + v2\n",
        "\n",
        "print(v3)                   # 출력 : \"Vector(x=6, y=8)\""
      ],
      "metadata": {
        "colab": {
          "base_uri": "https://localhost:8080/"
        },
        "id": "CQNdOucyIbV-",
        "outputId": "29e899a9-9923-4511-8ed9-5c27d6c601c4"
      },
      "execution_count": null,
      "outputs": [
        {
          "output_type": "stream",
          "name": "stdout",
          "text": [
            "Vector(x=6, y=8)\n"
          ]
        }
      ]
    },
    {
      "cell_type": "code",
      "source": [
        "# 문제 'Employee' 클래스를 정의하고, 이를 상속받는 'Manager' 클래스를 정의하세요\n",
        "# 'Employee' 클래스는 이름(name)과 급여(salary)를 가지며\n",
        "# 'Manager' 클래스는 'Employee'의 모든 속성에 더해 보너스(bonus)를 추가로 가집니다.\n",
        "# 'get_salary' 메서드를 오버라이딩하여, 매니저의 급여에 보너스를 ㄱ포함시키도록 하세요\n",
        "\n",
        "class Employee :\n",
        "    def __init__(self, name, salary) :\n",
        "        self.name = name\n",
        "        self.salary = salary\n",
        "\n",
        "    def get_salary(self) :\n",
        "        return self.salary\n",
        "\n",
        "class Manager(Employee) :\n",
        "    def __init__(self, name, salary, bonus) :\n",
        "        super().__init__(name, salary)\n",
        "        self.bonus = bonus\n",
        "\n",
        "    def get_salary(self):\n",
        "        return self.salary + self.bonus\n",
        "\n",
        "employee = Employee(\"John\", 5000)\n",
        "manager = Manager(\"Alice\", 6000, 10000)\n",
        "\n",
        "print(employee.get_salary())                    # 출력 50000\n",
        "print(manager.get_salary())                     # 출력 70000"
      ],
      "metadata": {
        "colab": {
          "base_uri": "https://localhost:8080/"
        },
        "id": "3qcORAAKIx2W",
        "outputId": "6340be92-0158-44f1-9c28-4928b57777f9"
      },
      "execution_count": null,
      "outputs": [
        {
          "output_type": "stream",
          "name": "stdout",
          "text": [
            "5000\n",
            "16000\n"
          ]
        }
      ]
    },
    {
      "cell_type": "code",
      "source": [
        "# 추가적으로 기억해야 하는 것!\n",
        "# property(속성)을 instance를 이용해서 동적으로 추가할 수 있어요\n",
        "# 이상한거 하나 보고 갈게요!\n",
        "class MyClass(object):\n",
        "    def __init__ (self, a, b) :\n",
        "        self.a = a\n",
        "        self.b = b\n",
        "\n",
        "obj = MyClass(10, 20)\n",
        "print(obj.a)\n",
        "# print(obj.c)                  # c가 없는데 사용하려고 해요. 당연히 오류에요\n",
        "obj.c = 100                     # 이건 오류가 아니에요.\n",
        "                                # 만약 없는 property에 값을 저장하려고 하면\n",
        "                                #   해당 property를 동적으로 생성해요\n",
        "\n"
      ],
      "metadata": {
        "colab": {
          "base_uri": "https://localhost:8080/"
        },
        "id": "gczk9RKWVWU1",
        "outputId": "d72f7e63-c555-41d9-f5dc-000a7a8e0dcf"
      },
      "execution_count": null,
      "outputs": [
        {
          "output_type": "stream",
          "name": "stdout",
          "text": [
            "10\n"
          ]
        }
      ]
    },
    {
      "cell_type": "code",
      "source": [
        "# 추가적으로 또 알아야 하는게 있어요\n",
        "\n",
        "# class 안에서 __init__() 안에서 property를 생성할 수 있어요\n",
        "# 이렇게 만들어진 property를 instance variable라고 불러요\n",
        "# instance마다 property를 각각 따로 가지고 있기 때문에 이렇게 불러요\n",
        "\n",
        "# 그런데 이와 별개로 peroperty가 있어요\n",
        "# class variavle이라고 불리는 property가 있어요\n",
        "# method 내에서 생성되지 않아요, class 내부에서 생성해요\n",
        "# 그럼 이 class variable의 특징은 무엇인가요?\n",
        "# instance가 class variable을 공유해요\n",
        "\n",
        "\n",
        "class Employee :\n",
        "\n",
        "    num_of_emp = 0                          # class variable\n",
        "\n",
        "    def __init__ (self, name, salary) :\n",
        "        self.name = name                    # instance variable\n",
        "        self.salary = salary                # instance variable\n",
        "        self.num_of_emp += 1\n",
        "\n",
        "\n",
        "emp_1 = Employee('홍길동', 1000)\n",
        "emp_2 = Employee('신사임당', 2000)\n",
        "emp_3 = Employee('이순신', 5000)\n",
        "\n",
        "\n",
        "\n",
        "print(emp_1.num_of_emp)                    # 왜 3이 아니라 1로 나오죠?\n",
        "# 이유는?\n"
      ],
      "metadata": {
        "colab": {
          "base_uri": "https://localhost:8080/"
        },
        "id": "utTt6RAtYQa0",
        "outputId": "cf96686d-b4d1-4d8b-d371-889dc2ce6fdd"
      },
      "execution_count": null,
      "outputs": [
        {
          "output_type": "stream",
          "name": "stdout",
          "text": [
            "1\n",
            "1\n"
          ]
        }
      ]
    }
  ]
}