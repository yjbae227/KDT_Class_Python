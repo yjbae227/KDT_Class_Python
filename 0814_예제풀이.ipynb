{
  "nbformat": 4,
  "nbformat_minor": 0,
  "metadata": {
    "colab": {
      "provenance": [],
      "authorship_tag": "ABX9TyO2yAU/BPpXmjrOZNO/Oh8L",
      "include_colab_link": true
    },
    "kernelspec": {
      "name": "python3",
      "display_name": "Python 3"
    },
    "language_info": {
      "name": "python"
    }
  },
  "cells": [
    {
      "cell_type": "markdown",
      "metadata": {
        "id": "view-in-github",
        "colab_type": "text"
      },
      "source": [
        "<a href=\"https://colab.research.google.com/github/yjbae227/KDT_Class_Python/blob/main/0814_%EC%98%88%EC%A0%9C%ED%92%80%EC%9D%B4.ipynb\" target=\"_parent\"><img src=\"https://colab.research.google.com/assets/colab-badge.svg\" alt=\"Open In Colab\"/></a>"
      ]
    },
    {
      "cell_type": "code",
      "execution_count": null,
      "metadata": {
        "id": "zOdYU0Myw7dI",
        "colab": {
          "base_uri": "https://localhost:8080/"
        },
        "outputId": "b0b39ab7-676b-46d8-93a0-2f22a2cf2121"
      },
      "outputs": [
        {
          "output_type": "stream",
          "name": "stdout",
          "text": [
            "3\n",
            "10757800\n",
            "True\n",
            "True\n",
            "10757736 10757736\n",
            "False\n",
            "True\n",
            "134342149642048 134342150176832\n",
            "10\n",
            "10\n",
            "10758024 10758024\n",
            "1 1 1\n",
            "9 문화방송 서울방송\n"
          ]
        },
        {
          "output_type": "execute_result",
          "data": {
            "text/plain": [
              "['False',\n",
              " 'None',\n",
              " 'True',\n",
              " 'and',\n",
              " 'as',\n",
              " 'assert',\n",
              " 'async',\n",
              " 'await',\n",
              " 'break',\n",
              " 'class',\n",
              " 'continue',\n",
              " 'def',\n",
              " 'del',\n",
              " 'elif',\n",
              " 'else',\n",
              " 'except',\n",
              " 'finally',\n",
              " 'for',\n",
              " 'from',\n",
              " 'global',\n",
              " 'if',\n",
              " 'import',\n",
              " 'in',\n",
              " 'is',\n",
              " 'lambda',\n",
              " 'nonlocal',\n",
              " 'not',\n",
              " 'or',\n",
              " 'pass',\n",
              " 'raise',\n",
              " 'return',\n",
              " 'try',\n",
              " 'while',\n",
              " 'with',\n",
              " 'yield']"
            ]
          },
          "metadata": {},
          "execution_count": 18
        }
      ],
      "source": [
        "a = 3\n",
        "print(a)\n",
        "\n",
        "print(id(a))                               # 변수가 참조하는 객체의 주소값\n",
        "\n",
        "a = 1\n",
        "b = 1\n",
        "print(a is b)                             # 동일객체 확인 여부\n",
        "print(a == b)                             # 두 변수의 참조값 비교\n",
        "\n",
        "print(id(a), id(b))                       # a 생성 후 b 생성할 때 b를 생성하는 것이 아니라 b가 a의 객체를 가르킴 ===> 정수형 객체일 때만\n",
        "\n",
        "\n",
        "a2 = [1, 2]\n",
        "b2 = [1, 2]\n",
        "print(a2 is b2)\n",
        "print(a2 == b2)                             # 리스트형은 다른 객체로 생성\n",
        "print(id(a2), id(b2))\n",
        "\n",
        "\n",
        "no = 10\n",
        "bunho = no\n",
        "print(no)\n",
        "print(bunho)\n",
        "print(id(bunho), id(no))\n",
        "\n",
        "a = b = c = 1                           # 다중 선언 가능\n",
        "print(a, b, c)\n",
        "\n",
        "\n",
        "kbs, mbc, sbs = 9, \"문화방송\", \"서울방송\"\n",
        "print(kbs, mbc, sbs)\n",
        "\n",
        "\n",
        "import keyword\n",
        "keyword.kwlist"
      ]
    },
    {
      "cell_type": "code",
      "source": [
        "# 문자열\n",
        "\n",
        "ss1 = '문자열을 작은 따옴표로 둘러줌'\n",
        "print(ss1)\n",
        "\n",
        "ss2 = \"문자열을 큰따옴표로 감싸줌\"\n",
        "print(ss2)\n",
        "\n",
        "ss3 = \"\"\"긴 문장의 경우 큰 따옴표나 작은따옴표\n",
        "관계없이 땅모표를 세번 연속해서 사용하여 문자열을\n",
        "처리 하는 군\"\"\"\n",
        "print(ss3)\n",
        "\n",
        "print('값 출력 : ', 10, '안녕')\n",
        "print('성공')\n",
        "\n",
        "print(format(123.45678, '10.3f'))                   # 전체 10자리 확보 후 소수점 이하 3자리\n",
        "print(format(123, '10d'))\n",
        "\n",
        "print('서식에 의한 자료 출력 %s %d %f'%('문자열', 5, 23.4))\n",
        "print('나는 키가 %f이고, 에너지가 %d%%'%(177.7, 100))\n",
        "\n",
        "print('이름: {0}, 가격 :{1}'.format('마우스', 5000))\n",
        "print('이름: {}, 가격: {}'. format('마우스', 5000))\n",
        "print('I have only {0:,}'.format(15000))\n",
        "\n",
        "name = '카서스'\n",
        "age = 23\n",
        "print(f\"반갑다. {name}. 네 나이가 {age}살 맞지?\")\n",
        "print(f\"{1 + 2 * 3.4 + sum([1, 2])}\")\n",
        "\n",
        "\n",
        "irum = input('이름을 입력 : ')\n",
        "print(irum)\n",
        "\n",
        "nai = int(input('나이 입력 : '))\n",
        "print(nai + 5)\n",
        "\n",
        "'내가 얻은 득점은' + str(90) + '점이다.'"
      ],
      "metadata": {
        "colab": {
          "base_uri": "https://localhost:8080/",
          "height": 403
        },
        "id": "5M0ginat0FI7",
        "outputId": "81b7e1d6-d8c2-4fcd-931a-4d6591aa5097"
      },
      "execution_count": null,
      "outputs": [
        {
          "output_type": "stream",
          "name": "stdout",
          "text": [
            "문자열을 작은 따옴표로 둘러줌\n",
            "문자열을 큰따옴표로 감싸줌\n",
            "긴 문장의 경우 큰 따옴표나 작은따옴표\n",
            "관계없이 땅모표를 세번 연속해서 사용하여 문자열을\n",
            "처리 하는 군\n",
            "값 출력 :  10 안녕\n",
            "성공\n",
            "   123.457\n",
            "       123\n",
            "서식에 의한 자료 출력 문자열 5 23.400000\n",
            "나는 키가 177.700000이고, 에너지가 100%\n",
            "이름: 마우스, 가격 :5000\n",
            "이름: 마우스, 가격: 5000\n",
            "I have only 15,000\n",
            "반갑다. 카서스. 네 나이가 23살 맞지?\n",
            "10.8\n",
            "이름을 입력 : J\n",
            "J\n",
            "나이 입력 : 29\n",
            "34\n"
          ]
        },
        {
          "output_type": "execute_result",
          "data": {
            "text/plain": [
              "'내가 얻은 득점은90점이다.'"
            ],
            "application/vnd.google.colaboratory.intrinsic+json": {
              "type": "string"
            }
          },
          "metadata": {},
          "execution_count": 4
        }
      ]
    },
    {
      "cell_type": "code",
      "source": [
        "var = '안녕 파이썬'                 # 난 주석이야 실행에 참여하지 않아\n",
        "print(var)\n",
        "\n",
        "var = 5; print(var)                 # 두 개의 실행문으로 인식한다.\n",
        "var = 12.3\n",
        "print(var)\n",
        "\n",
        "\n",
        "print(7, type(7))\n",
        "print(7.2, type(7.2))\n",
        "print(3+4j, type(3+4j))\n",
        "print(True, type(True))\n",
        "\n",
        "\n",
        "print('abc', type('abc'))\n",
        "print([1], type([1]))\n",
        "print((1,), type((1,)))\n",
        "print({1}, type({1}))\n",
        "print({'key':1}, type({'key':1}))"
      ],
      "metadata": {
        "colab": {
          "base_uri": "https://localhost:8080/"
        },
        "id": "IHSDhfQWepDy",
        "outputId": "faa6f4ef-bf6b-4a61-ec28-5920d3f99fb3"
      },
      "execution_count": null,
      "outputs": [
        {
          "output_type": "stream",
          "name": "stdout",
          "text": [
            "안녕 파이썬\n",
            "5\n",
            "12.3\n",
            "7 <class 'int'>\n",
            "7.2 <class 'float'>\n",
            "(3+4j) <class 'complex'>\n",
            "True <class 'bool'>\n",
            "abc <class 'str'>\n",
            "[1] <class 'list'>\n",
            "(1,) <class 'tuple'>\n",
            "{1} <class 'set'>\n",
            "{'key': 1} <class 'dict'>\n"
          ]
        }
      ]
    },
    {
      "cell_type": "code",
      "source": [
        "v1 = 3\n",
        "v1 = v2 = v3 = 5\n",
        "print(v1, v2, v3)\n",
        "\n",
        "\n",
        "v1, v2 = 10, 20\n",
        "print(v1, v2)\n",
        "v2, v1 = v1, v2\n",
        "print(v1, v2)\n",
        "\n",
        "\n",
        "v1, *v2 = 1, 2, 3, 4, 5\n",
        "print(v1)\n",
        "print(v2)\n",
        "\n",
        "*v1, v2 = 1, 2, 3, 4, 5\n",
        "print(v1)\n",
        "print(v2)\n",
        "\n",
        "\n",
        "*v1, v2, v3, = 1, 2, 3, 4, 5\n",
        "print(v1)\n",
        "print(v2)\n",
        "print(v3)\n",
        "\n",
        "v1, *v2, v3 = 1, 2, 3, 4, 5\n",
        "print(v1)\n",
        "print(v2)\n",
        "print(v3)\n",
        "\n",
        "print('===========')\n",
        "print(5+3, 5-3)\n",
        "print(5*3, 5/3)\n",
        "print(5//3, 5%3)\n",
        "print(5**3)\n",
        "print('나누기에서 몫과 나머지 얻기\"', divmod(5, 3))\n",
        "print('\\n 연산 우선순위 : ', 3 + 4*5, (3+4)*5)\n",
        "\n",
        "\n",
        "print(5 > 3,5 == 3, 5 !=3)\n",
        "print(5 > 3 and 4 < 3, 5 > 3 or 4 < 3, not (5 >= 3 ))\n",
        "\n",
        "\n",
        "a = 10\n",
        "a = a + 1\n",
        "a += 1\n",
        "print(a)\n",
        "\n",
        "# 문자열 더하기 연산\n",
        "print('한'+'국'+\"만세\")\n",
        "print('한국'*3)\n",
        "print('\\n부호변경:', a * -1, -a, --a)\n",
        "\n",
        "\n",
        "# 연산자 알아보기2\n",
        "print('불린1:', bool('Hello'), bool(1), bool(-2), bool(3.2))\n",
        "print('불린2:', bool(0), bool(None), bool(''), bool([]), bool(()), bool({}))\n",
        "\n",
        "\n",
        "print('aa\\tbb')\n",
        "print(r'aa\\tbb')\n",
        "print('aa\\nbb')\n",
        "print(r'aa\\nbb')\n",
        "\n",
        "print('c:\\aa\\abc.txt')\n",
        "print(r'c:\\aa\\abc.txt')"
      ],
      "metadata": {
        "colab": {
          "base_uri": "https://localhost:8080/"
        },
        "id": "1H2-PAaChNXZ",
        "outputId": "07a26e08-92f3-4056-c85c-7073f55b91f7"
      },
      "execution_count": null,
      "outputs": [
        {
          "output_type": "stream",
          "name": "stdout",
          "text": [
            "5 5 5\n",
            "10 20\n",
            "20 10\n",
            "1\n",
            "[2, 3, 4, 5]\n",
            "[1, 2, 3, 4]\n",
            "5\n",
            "[1, 2, 3]\n",
            "4\n",
            "5\n",
            "1\n",
            "[2, 3, 4]\n",
            "5\n",
            "===========\n",
            "8 2\n",
            "15 1.6666666666666667\n",
            "1 2\n",
            "125\n",
            "나누기에서 몫과 나머지 얻기\" (1, 2)\n",
            "\n",
            " 연산 우선순위 :  23 35\n",
            "True False True\n",
            "False True False\n",
            "12\n",
            "한국만세\n",
            "한국한국한국\n",
            "\n",
            "부호변경: -12 -12 12\n",
            "불린1: True True True True\n",
            "불린2: False False False False False False\n",
            "aa\tbb\n",
            "aa\\tbb\n",
            "aa\n",
            "bb\n",
            "aa\\nbb\n",
            "c:\u0007a\u0007bc.txt\n",
            "c:\\aa\\abc.txt\n"
          ]
        }
      ]
    },
    {
      "cell_type": "code",
      "source": [
        "# 문자열 자료형\n",
        "a = 'Hello'\n",
        "a = \"안녕\"\n",
        "print(a)\n",
        "\n",
        "b = 'python'\n",
        "print(b[1])\n",
        "print(b[-1])\n"
      ],
      "metadata": {
        "colab": {
          "base_uri": "https://localhost:8080/"
        },
        "id": "jPUd2f4KlPbR",
        "outputId": "3d358149-b1d6-44ca-91b9-1ff6451caba8"
      },
      "execution_count": 6,
      "outputs": [
        {
          "output_type": "stream",
          "name": "stdout",
          "text": [
            "안녕\n",
            "y\n",
            "n\n"
          ]
        }
      ]
    },
    {
      "cell_type": "code",
      "source": [
        "# 문자열 관련 함수\n",
        "s = 'sequence'\n",
        "\n",
        "\n",
        "print('길이(크기) : ',len(s))\n",
        "print('포함횟수 : ', s.count('e'))\n",
        "print('검색 위치 : ', s.find('e'), s.find('e',3), s.rfind('e'))\n",
        "print('첫 글자 유무: ', s.startswith('s'), s.startswith('a'))\n",
        "print('해당 요솟값 유무:', 'e' in s)\n",
        "\n",
        "# 인덱싱과 슬라이싱 처리\n",
        "print(s[0])\n"
      ],
      "metadata": {
        "colab": {
          "base_uri": "https://localhost:8080/"
        },
        "id": "AAU0ktqFZH11",
        "outputId": "f35ebb78-b1a2-4a89-c123-eebe0eb5580e"
      },
      "execution_count": 8,
      "outputs": [
        {
          "output_type": "stream",
          "name": "stdout",
          "text": [
            "길이(크기) :  8\n",
            "포함횟수 :  3\n",
            "검색 위치 :  1 4 7\n",
            "첫 글자 유무:  True False\n",
            "해당 요솟값 유무: True\n"
          ]
        }
      ]
    }
  ]
}